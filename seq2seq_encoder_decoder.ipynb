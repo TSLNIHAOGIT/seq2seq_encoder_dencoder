{
 "cells": [
  {
   "cell_type": "code",
   "execution_count": 1,
   "metadata": {
    "collapsed": true
   },
   "outputs": [],
   "source": [
    "import tensorflow as tf\n",
    "import numpy as np\n",
    "\n",
    "\n",
    "from tensorflow.python.layers.core import Dense"
   ]
  },
  {
   "cell_type": "code",
   "execution_count": 2,
   "metadata": {},
   "outputs": [],
   "source": [
    "with open('letters_source.txt', 'r', encoding='utf-8') as f:\n",
    "    source_data = f.read()\n",
    "\n",
    "with open('letters_target.txt', 'r', encoding='utf-8') as f:\n",
    "    target_data = f.read()"
   ]
  },
  {
   "cell_type": "code",
   "execution_count": 3,
   "metadata": {},
   "outputs": [
    {
     "data": {
      "text/plain": [
       "['bsaqq',\n 'npy',\n 'lbwuj',\n 'bqv',\n 'kial',\n 'tddam',\n 'edxpjpg',\n 'nspv',\n 'huloz',\n 'kmclq']"
      ]
     },
     "execution_count": 3,
     "metadata": {},
     "output_type": "execute_result"
    }
   ],
   "source": [
    "source_data.split('\\n')[:10]"
   ]
  },
  {
   "cell_type": "code",
   "execution_count": 4,
   "metadata": {},
   "outputs": [
    {
     "data": {
      "text/plain": [
       "['abqqs',\n 'npy',\n 'bjluw',\n 'bqv',\n 'aikl',\n 'addmt',\n 'degjppx',\n 'npsv',\n 'hlouz',\n 'cklmq']"
      ]
     },
     "execution_count": 4,
     "metadata": {},
     "output_type": "execute_result"
    }
   ],
   "source": [
    "target_data.split('\\n')[:10]"
   ]
  },
  {
   "cell_type": "code",
   "execution_count": 5,
   "metadata": {},
   "outputs": [],
   "source": [
    "def extract_character_vocab(data):\n",
    "    '''\n",
    "    构造映射表\n",
    "    '''\n",
    "    special_words = ['<PAD>', '<UNK>', '<GO>',  '<EOS>']\n",
    "\n",
    "    set_words = list(set([character for line in data.split('\\n') for character in line]))\n",
    "    print('set_words',set_words)\n",
    "    # 这里要把四个特殊字符添加进词典\n",
    "    int_to_vocab = {idx: word for idx, word in enumerate(special_words + set_words)}\n",
    "    vocab_to_int = {word: idx for idx, word in int_to_vocab.items()}\n",
    "    \n",
    "    #将字典的键和值进行颠倒\n",
    "\n",
    "    return int_to_vocab, vocab_to_int"
   ]
  },
  {
   "cell_type": "code",
   "execution_count": 6,
   "metadata": {},
   "outputs": [],
   "source": [
    "set_words = list(set([character for line in source_data.split('\\n') for character in line]))\n",
    "#set()对字符进行了去重复，只留下非重复字符\n",
    "# print('set_words',set_words)[0:10]\n",
    "# set_words ['b', 's', 'a', 'q', 'q', 'n', 'p', 'y', 'l', 'b', 'w', 'u', 'j', 'b', 'q', 'v', 'k', 'i', 'a', 'l', 't', 'd', 'd', 'a', 'm', 'e', 'd', 'x', 'p', 'j', 'p', 'g', 'n', 's', 'p', 'v', 'h', 'u', 'l', '"
   ]
  },
  {
   "cell_type": "code",
   "execution_count": 7,
   "metadata": {},
   "outputs": [
    {
     "name": "stdout",
     "output_type": "stream",
     "text": [
      "set_words ['r', 'u', 'k', 'd', 't', 's', 'b', 'i', 'w', 'q', 'g', 'y', 'j', 'o', 'p', 'c', 'v', 'x', 'm', 'z', 'a', 'f', 'l', 'n', 'e', 'h']\n"
     ]
    },
    {
     "data": {
      "text/plain": [
       "({0: '<PAD>',\n  1: '<UNK>',\n  2: '<GO>',\n  3: '<EOS>',\n  4: 'r',\n  5: 'u',\n  6: 'k',\n  7: 'd',\n  8: 't',\n  9: 's',\n  10: 'b',\n  11: 'i',\n  12: 'w',\n  13: 'q',\n  14: 'g',\n  15: 'y',\n  16: 'j',\n  17: 'o',\n  18: 'p',\n  19: 'c',\n  20: 'v',\n  21: 'x',\n  22: 'm',\n  23: 'z',\n  24: 'a',\n  25: 'f',\n  26: 'l',\n  27: 'n',\n  28: 'e',\n  29: 'h'},\n {'<PAD>': 0,\n  '<UNK>': 1,\n  '<GO>': 2,\n  '<EOS>': 3,\n  'r': 4,\n  'u': 5,\n  'k': 6,\n  'd': 7,\n  't': 8,\n  's': 9,\n  'b': 10,\n  'i': 11,\n  'w': 12,\n  'q': 13,\n  'g': 14,\n  'y': 15,\n  'j': 16,\n  'o': 17,\n  'p': 18,\n  'c': 19,\n  'v': 20,\n  'x': 21,\n  'm': 22,\n  'z': 23,\n  'a': 24,\n  'f': 25,\n  'l': 26,\n  'n': 27,\n  'e': 28,\n  'h': 29})"
      ]
     },
     "execution_count": 7,
     "metadata": {},
     "output_type": "execute_result"
    }
   ],
   "source": [
    "#元组里面放了两个字典\n",
    "extract_character_vocab(source_data)"
   ]
  },
  {
   "cell_type": "code",
   "execution_count": 8,
   "metadata": {},
   "outputs": [
    {
     "name": "stdout",
     "output_type": "stream",
     "text": [
      "set_words ['r', 'u', 'k', 'd', 't', 's', 'b', 'i', 'w', 'q', 'g', 'y', 'j', 'o', 'p', 'c', 'v', 'x', 'm', 'z', 'a', 'f', 'l', 'n', 'e', 'h']\nset_words ['r', 'u', 'k', 'd', 't', 's', 'b', 'i', 'w', 'q', 'g', 'y', 'j', 'o', 'p', 'c', 'v', 'x', 'm', 'z', 'a', 'f', 'l', 'n', 'e', 'h']\n"
     ]
    }
   ],
   "source": [
    "source_int_to_letter, source_letter_to_int = extract_character_vocab(source_data)\n",
    "target_int_to_letter, target_letter_to_int = extract_character_vocab(target_data)"
   ]
  },
  {
   "cell_type": "code",
   "execution_count": 9,
   "metadata": {},
   "outputs": [
    {
     "data": {
      "text/plain": [
       "[[10, 9, 24, 13, 13],\n [27, 18, 15],\n [26, 10, 12, 5, 16],\n [10, 13, 20],\n [6, 11, 24, 26],\n [8, 7, 7, 24, 22],\n [28, 7, 21, 18, 16, 18, 14],\n [27, 9, 18, 20],\n [29, 5, 26, 17, 23],\n [6, 22, 19, 26, 13]]"
      ]
     },
     "execution_count": 9,
     "metadata": {},
     "output_type": "execute_result"
    }
   ],
   "source": [
    "[[source_letter_to_int.get(letter, source_letter_to_int['<UNK>']) for letter in line]\n",
    " for line in source_data.split('\\n')][0:10]"
   ]
  },
  {
   "cell_type": "code",
   "execution_count": 10,
   "metadata": {},
   "outputs": [],
   "source": [
    "# 对字母进行转换dict.get(key, default=None),返回指定键的值，default -- 如果指定键的值不存在时，返回该默认值值。\n",
    "source_int = [[source_letter_to_int.get(letter, source_letter_to_int['<UNK>']) for letter in line] \n",
    "              for line in source_data.split('\\n')]\n",
    "\n",
    "#target端首先在最后加上eos作为结束标志\n",
    "target_int = [[target_letter_to_int.get(letter, target_letter_to_int['<UNK>']) for letter in line] \n",
    "              + [target_letter_to_int['<EOS>']] \n",
    "              for line in target_data.split('\\n')]"
   ]
  },
  {
   "cell_type": "code",
   "execution_count": 11,
   "metadata": {},
   "outputs": [
    {
     "data": {
      "text/plain": [
       "[[10, 9, 24, 13, 13],\n [27, 18, 15],\n [26, 10, 12, 5, 16],\n [10, 13, 20],\n [6, 11, 24, 26],\n [8, 7, 7, 24, 22],\n [28, 7, 21, 18, 16, 18, 14],\n [27, 9, 18, 20],\n [29, 5, 26, 17, 23],\n [6, 22, 19, 26, 13]]"
      ]
     },
     "execution_count": 11,
     "metadata": {},
     "output_type": "execute_result"
    }
   ],
   "source": [
    "source_int[:10]"
   ]
  },
  {
   "cell_type": "code",
   "execution_count": 12,
   "metadata": {},
   "outputs": [
    {
     "data": {
      "text/plain": [
       "[[24, 10, 13, 13, 9, 3],\n [27, 18, 15, 3],\n [10, 16, 26, 5, 12, 3],\n [10, 13, 20, 3],\n [24, 11, 6, 26, 3],\n [24, 7, 7, 22, 8, 3],\n [7, 28, 14, 16, 18, 18, 21, 3],\n [27, 18, 9, 20, 3],\n [29, 26, 17, 5, 23, 3],\n [19, 6, 26, 22, 13, 3]]"
      ]
     },
     "execution_count": 12,
     "metadata": {},
     "output_type": "execute_result"
    }
   ],
   "source": [
    "target_int[:10]"
   ]
  },
  {
   "cell_type": "code",
   "execution_count": 13,
   "metadata": {},
   "outputs": [],
   "source": [
    "def get_inputs():\n",
    "    '''\n",
    "    模型输入tensor\n",
    "    '''\n",
    "    inputs = tf.placeholder(tf.int32, [None, None], name='inputs')\n",
    "    targets = tf.placeholder(tf.int32, [None, None], name='targets')\n",
    "    learning_rate = tf.placeholder(tf.float32, name='learning_rate')\n",
    "    \n",
    "    # 定义target序列最大长度（之后target_sequence_length和source_sequence_length会作为feed_dict的参数）\n",
    "    target_sequence_length = tf.placeholder(tf.int32, (None,), name='target_sequence_length')\n",
    "    max_target_sequence_length = tf.reduce_max(target_sequence_length, name='max_target_len')\n",
    "    source_sequence_length = tf.placeholder(tf.int32, (None,), name='source_sequence_length')\n",
    "    \n",
    "    return inputs, targets, learning_rate, target_sequence_length, max_target_sequence_length, source_sequence_length"
   ]
  },
  {
   "cell_type": "code",
   "execution_count": 14,
   "metadata": {},
   "outputs": [],
   "source": [
    "def get_encoder_layer(input_data, rnn_size, num_layers,\n",
    "                   source_sequence_length, source_vocab_size, \n",
    "                   encoding_embedding_size):\n",
    "\n",
    "    '''\n",
    "    构造Encoder层\n",
    "    \n",
    "    参数说明：\n",
    "    - input_data: 输入tensor\n",
    "    - rnn_size: rnn隐层结点数量\n",
    "    - num_layers: 堆叠的rnn cell数量\n",
    "    - source_sequence_length: 源数据的序列长度\n",
    "    - source_vocab_size: 源数据的词典大小\n",
    "    - encoding_embedding_size: embedding的大小\n",
    "    '''\n",
    "    # Encoder embedding\n",
    "    encoder_embed_input = tf.contrib.layers.embed_sequence(input_data, source_vocab_size, encoding_embedding_size)\n",
    "\n",
    "    # RNN cell\n",
    "    def get_lstm_cell(rnn_size):\n",
    "        lstm_cell = tf.contrib.rnn.LSTMCell(rnn_size, initializer=tf.random_uniform_initializer(-0.1, 0.1, seed=2))\n",
    "        return lstm_cell\n",
    "\n",
    "    cell = tf.contrib.rnn.MultiRNNCell([get_lstm_cell(rnn_size) for _ in range(num_layers)])\n",
    "    \n",
    "    encoder_output, encoder_state = tf.nn.dynamic_rnn(cell, encoder_embed_input, \n",
    "                                                      sequence_length=source_sequence_length, dtype=tf.float32)\n",
    "    \n",
    "    return encoder_output, encoder_state"
   ]
  },
  {
   "cell_type": "code",
   "execution_count": 15,
   "metadata": {},
   "outputs": [],
   "source": [
    "def process_decoder_input(data, vocab_to_int, batch_size):\n",
    "    '''\n",
    "    补充<GO>，并移除最后一个字符；##此处仅仅是将最后一个元素去掉，并且在最前面添加元素go\n",
    "    '''\n",
    "    # cut掉最后一个字符\n",
    "    ending = tf.strided_slice(data, [0, 0], [batch_size, -1], [1, 1])\n",
    "    \n",
    "    #创建dims=[batch_size, 1],value=vocab_to_int['<GO>']的矩阵，后面拼接ending\n",
    "    decoder_input = tf.concat([tf.fill([batch_size, 1], vocab_to_int['<GO>']), ending], 1)\n",
    "\n",
    "    return decoder_input"
   ]
  },
  {
   "cell_type": "code",
   "execution_count": 16,
   "metadata": {},
   "outputs": [],
   "source": [
    "def decoding_layer(target_letter_to_int, decoding_embedding_size, num_layers, rnn_size,\n",
    "                   target_sequence_length, max_target_sequence_length, encoder_state, decoder_input):\n",
    "    '''\n",
    "    构造Decoder层\n",
    "    \n",
    "    参数：\n",
    "    - target_letter_to_int: target数据的映射表\n",
    "    - decoding_embedding_size: embed向量大小\n",
    "    - num_layers: 堆叠的RNN单元数量\n",
    "    - rnn_size: RNN单元的隐层结点数量\n",
    "    - target_sequence_length: target数据序列长度\n",
    "    - max_target_sequence_length: target数据序列最大长度\n",
    "    - encoder_state: encoder端编码的状态向量\n",
    "    - decoder_input: decoder端输入\n",
    "    '''\n",
    "    # 1. Embedding\n",
    "    target_vocab_size = len(target_letter_to_int)\n",
    "    decoder_embeddings = tf.Variable(tf.random_uniform([target_vocab_size, decoding_embedding_size]))\n",
    "    decoder_embed_input = tf.nn.embedding_lookup(decoder_embeddings, decoder_input)\n",
    "\n",
    "    # 2. 构造Decoder中的RNN单元\n",
    "    def get_decoder_cell(rnn_size):\n",
    "        decoder_cell = tf.contrib.rnn.LSTMCell(rnn_size,\n",
    "                                           initializer=tf.random_uniform_initializer(-0.1, 0.1, seed=2))\n",
    "        return decoder_cell\n",
    "    cell = tf.contrib.rnn.MultiRNNCell([get_decoder_cell(rnn_size) for _ in range(num_layers)])\n",
    "     \n",
    "    # 3. Output全连接层\n",
    "    output_layer = Dense(target_vocab_size,\n",
    "                         kernel_initializer = tf.truncated_normal_initializer(mean = 0.0, stddev=0.1))\n",
    "\n",
    "\n",
    "    # 4. Training decoder\n",
    "    with tf.variable_scope(\"decode\"):\n",
    "        # 得到help对象\n",
    "        training_helper = tf.contrib.seq2seq.TrainingHelper(inputs=decoder_embed_input,\n",
    "                                                            sequence_length=target_sequence_length,\n",
    "                                                            time_major=False)\n",
    "        # 构造decoder\n",
    "        training_decoder = tf.contrib.seq2seq.BasicDecoder(cell,\n",
    "                                                           training_helper,\n",
    "                                                           encoder_state,\n",
    "                                                           output_layer) \n",
    "        training_decoder_output, _,_ = tf.contrib.seq2seq.dynamic_decode(training_decoder,\n",
    "                                                                       impute_finished=True,\n",
    "                                                                       maximum_iterations=max_target_sequence_length)\n",
    "    # 5. Predicting decoder\n",
    "    # 与training共享参数\n",
    "    with tf.variable_scope(\"decode\", reuse=True):\n",
    "        # 创建一个常量tensor并复制为batch_size的大小\n",
    "        start_tokens = tf.tile(tf.constant([target_letter_to_int['<GO>']], dtype=tf.int32), [batch_size], \n",
    "                               name='start_tokens')\n",
    "        predicting_helper = tf.contrib.seq2seq.GreedyEmbeddingHelper(decoder_embeddings,\n",
    "                                                                start_tokens,\n",
    "                                                                target_letter_to_int['<EOS>'])\n",
    "        predicting_decoder = tf.contrib.seq2seq.BasicDecoder(cell,\n",
    "                                                        predicting_helper,\n",
    "                                                        encoder_state,\n",
    "                                                        output_layer)\n",
    "        predicting_decoder_output, _,_ = tf.contrib.seq2seq.dynamic_decode(predicting_decoder,\n",
    "                                                            impute_finished=True,\n",
    "                                                            maximum_iterations=max_target_sequence_length)\n",
    "    \n",
    "    return training_decoder_output, predicting_decoder_output"
   ]
  },
  {
   "cell_type": "code",
   "execution_count": 26,
   "metadata": {},
   "outputs": [],
   "source": [
    "def seq2seq_model(input_data, targets, lr, target_sequence_length, \n",
    "                  max_target_sequence_length, source_sequence_length,\n",
    "                  source_vocab_size, target_vocab_size,\n",
    "                  encoder_embedding_size, decoder_embedding_size, \n",
    "                  rnn_size, num_layers):\n",
    "    \n",
    "    # 获取encoder的状态输出\n",
    "    _, encoder_state = get_encoder_layer(input_data, \n",
    "                                  rnn_size, \n",
    "                                  num_layers, \n",
    "                                  source_sequence_length,\n",
    "                                  source_vocab_size, \n",
    "                                  encoding_embedding_size)\n",
    "    \n",
    "    \n",
    "    # 预处理后的decoder输入\n",
    "    decoder_input = process_decoder_input(targets, target_letter_to_int, batch_size)\n",
    "    print('targets',targets,'\\n****\\n')\n",
    "    \n",
    "    print('process_decoder_input',process_decoder_input,'\\n****\\n')\n",
    "    \n",
    "    # 将状态向量与输入传递给decoder\n",
    "    training_decoder_output, predicting_decoder_output = decoding_layer(target_letter_to_int, \n",
    "                                                                       decoding_embedding_size, \n",
    "                                                                       num_layers, \n",
    "                                                                       rnn_size,\n",
    "                                                                       target_sequence_length,\n",
    "                                                                       max_target_sequence_length,\n",
    "                                                                       encoder_state, \n",
    "                                                                       decoder_input) \n",
    "    \n",
    "    return training_decoder_output, predicting_decoder_output"
   ]
  },
  {
   "cell_type": "code",
   "execution_count": 31,
   "metadata": {},
   "outputs": [
    {
     "name": "stdout",
     "output_type": "stream",
     "text": [
      "targets Tensor(\"targets:0\", shape=(?, ?), dtype=int32) \n****\n\nprocess_decoder_input <function process_decoder_input at 0x11a88cd90> \n****\n\n"
     ]
    }
   ],
   "source": [
    "# 超参数\n",
    "# Number of Epochs\n",
    "epochs = 80\n",
    "# Batch Size\n",
    "batch_size = 128\n",
    "# RNN Size\n",
    "rnn_size = 50\n",
    "# Number of Layers\n",
    "num_layers = 2\n",
    "# Embedding Size\n",
    "encoding_embedding_size = 15\n",
    "decoding_embedding_size = 15\n",
    "# Learning Rate\n",
    "learning_rate = 0.001\n",
    "\n",
    "\n",
    "# In[13]:\n",
    "\n",
    "# 构造graph\n",
    "train_graph = tf.Graph()\n",
    "\n",
    "with train_graph.as_default():\n",
    "    \n",
    "    # 获得模型输入    \n",
    "    input_data, targets, lr, target_sequence_length, max_target_sequence_length, source_sequence_length = get_inputs()\n",
    "    \n",
    "    #调用模型\n",
    "    training_decoder_output, predicting_decoder_output = seq2seq_model(input_data, \n",
    "                                                                      targets, \n",
    "                                                                      lr, \n",
    "                                                                      target_sequence_length, \n",
    "                                                                      max_target_sequence_length, \n",
    "                                                                      source_sequence_length,\n",
    "                                                                      len(source_letter_to_int),\n",
    "                                                                      len(target_letter_to_int),\n",
    "                                                                      encoding_embedding_size, \n",
    "                                                                      decoding_embedding_size, \n",
    "                                                                      rnn_size, \n",
    "                                                                      num_layers)    \n",
    "    \n",
    "    training_logits = tf.identity(training_decoder_output.rnn_output, 'logits')\n",
    "    predicting_logits = tf.identity(predicting_decoder_output.sample_id, name='predictions')\n",
    "    \n",
    "    masks = tf.sequence_mask(target_sequence_length, max_target_sequence_length, dtype=tf.float32, name='masks')\n",
    "    \n",
    "    process_decoder_input_example=process_decoder_input(targets, target_letter_to_int, batch_size)\n",
    "\n",
    "    with tf.name_scope(\"optimization\"):\n",
    "        \n",
    "        # Loss function\n",
    "        cost = tf.contrib.seq2seq.sequence_loss(\n",
    "            training_logits,\n",
    "            targets,\n",
    "            masks)\n",
    "\n",
    "        # Optimizer\n",
    "        optimizer = tf.train.AdamOptimizer(lr)\n",
    "\n",
    "        # Gradient Clipping\n",
    "        gradients = optimizer.compute_gradients(cost)\n",
    "        capped_gradients = [(tf.clip_by_value(grad, -5., 5.), var) for grad, var in gradients if grad is not None]\n",
    "        train_op = optimizer.apply_gradients(capped_gradients)"
   ]
  },
  {
   "cell_type": "code",
   "execution_count": 28,
   "metadata": {},
   "outputs": [],
   "source": [
    "def pad_sentence_batch(sentence_batch, pad_int):\n",
    "    '''\n",
    "    对batch中的序列进行补全，保证batch中的每行都有相同的sequence_length\n",
    "    \n",
    "    参数：\n",
    "    - sentence batch\n",
    "    - pad_int: <PAD>对应索引号\n",
    "    '''\n",
    "    max_sentence = max([len(sentence) for sentence in sentence_batch])\n",
    "    return [sentence + [pad_int] * (max_sentence - len(sentence)) for sentence in sentence_batch]"
   ]
  },
  {
   "cell_type": "code",
   "execution_count": 29,
   "metadata": {},
   "outputs": [],
   "source": [
    "def get_batches(targets, sources, batch_size, source_pad_int, target_pad_int):\n",
    "    '''\n",
    "    定义生成器，用来获取batch\n",
    "    '''\n",
    "    for batch_i in range(0, len(sources)//batch_size):\n",
    "        start_i = batch_i * batch_size\n",
    "        sources_batch = sources[start_i:start_i + batch_size]\n",
    "        targets_batch = targets[start_i:start_i + batch_size]\n",
    "        # 补全序列\n",
    "        pad_sources_batch = np.array(pad_sentence_batch(sources_batch, source_pad_int))\n",
    "        pad_targets_batch = np.array(pad_sentence_batch(targets_batch, target_pad_int))\n",
    "        \n",
    "        # 记录每条记录的长度\n",
    "        targets_lengths = []\n",
    "        for target in targets_batch:\n",
    "            targets_lengths.append(len(target))\n",
    "        \n",
    "        source_lengths = []\n",
    "        for source in sources_batch:\n",
    "            source_lengths.append(len(source))\n",
    "        \n",
    "        yield pad_targets_batch, pad_sources_batch, targets_lengths, source_lengths"
   ]
  },
  {
   "cell_type": "code",
   "execution_count": 35,
   "metadata": {},
   "outputs": [
    {
     "name": "stdout",
     "output_type": "stream",
     "text": [
      "decoder-input [[ 2 25 27 ...  0  0  0]\n [ 2 16  6 ...  0  0  0]\n [ 2 14 18 ...  8 12  3]\n ...\n [ 2 14 29 ... 12 12  3]\n [ 2 19 14 ... 12  3  0]\n [ 2 24 11 ...  9  8 20]]\n"
     ]
    },
    {
     "name": "stdout",
     "output_type": "stream",
     "text": [
      "Epoch   1/80 Batch    0/77 - Training Loss:  3.402  - Validation loss:  3.397\ndecoder-input [[ 2 24  3 ...  0  0  0]\n [ 2  6  6 ...  0  0  0]\n [ 2 10 10 ...  0  0  0]\n ...\n [ 2 10 10 ...  5 20  3]\n [ 2 24 10 ... 14  3  0]\n [ 2 29  8 ...  0  0  0]]\ndecoder-input [[ 2 25  4 ...  3  0  0]\n [ 2 27 17 ... 12  3  0]\n [ 2 11 16 ...  3  0  0]\n ...\n [ 2 28 29 ...  4  3  0]\n [ 2  6 27 ...  3  0  0]\n [ 2 25  6 ...  0  0  0]]\ndecoder-input [[ 2 22 18 ... 20 15  3]\n [ 2 16 26 ... 18  3  0]\n [ 2 19  7 ...  3  0  0]\n ...\n [ 2  7 16 ...  0  0  0]\n [ 2 28 21 ...  0  0  0]\n [ 2 24 22 ...  3  0  0]]\ndecoder-input [[ 2 26 27 ...  0  0  0]\n [ 2 28 25 ...  0  0  0]\n [ 2 29 11 ...  9 21  3]\n ...\n [ 2 20  3 ...  0  0  0]\n [ 2  7  9 ...  0  0  0]\n [ 2 17 20 ...  0  0  0]]\ndecoder-input [[ 2  7  9 ...  0  0  0]\n [ 2 16  6 ...  4 20  3]\n [ 2 29 16 ...  9 12  3]\n ...\n [ 2 28  4 ...  3  0  0]\n [ 2 24 28 ...  5 20 20]\n [ 2  7 26 ...  3  0  0]]\ndecoder-input [[ 2  6 27 ...  0  0  0]\n [ 2 14 16 ... 12 21 15]\n [ 2 10 19 ...  3  0  0]\n ...\n [ 2 27  3 ...  0  0  0]\n [ 2  7 14 ...  9  3  0]\n [ 2 25 13 ...  0  0  0]]\ndecoder-input [[ 2 11 11 ...  3  0  0]\n [ 2 10  3 ...  0  0  0]\n [ 2 19 14 ... 18  9  9]\n ...\n [ 2 29  4 ...  0  0  0]\n [ 2 28 11 ...  0  0  0]\n [ 2 24 19 ... 29 11 15]]\ndecoder-input [[ 2 29 16 ...  3  0  0]\n [ 2 11  3 ...  0  0  0]\n [ 2 10  7 ...  4 23  3]\n ...\n [ 2  6 27 ... 20 15  3]\n [ 2 28 29 ...  3  0  0]\n [ 2 28 11 ...  8  3  0]]\ndecoder-input [[ 2  4  8 ...  0  0  0]\n [ 2 19 18 ...  0  0  0]\n [ 2 10 14 ... 17 15  3]\n ...\n [ 2 27  3 ...  0  0  0]\n [ 2  7 28 ...  3  0  0]\n [ 2 16 22 ...  0  0  0]]\ndecoder-input [[ 2 24  4 ...  3  0  0]\n [ 2 25 25 ... 20  3  0]\n [ 2 24  7 ...  9 12  3]\n ...\n [ 2 14 20 ... 23  3  0]\n [ 2 10 28 ...  0  0  0]\n [ 2 29  6 ...  3  0  0]]\ndecoder-input [[ 2 14 17 ...  0  0  0]\n [ 2 10 10 ... 20  3  0]\n [ 2 28 11 ... 15 15 23]\n ...\n [ 2 16  9 ...  0  0  0]\n [ 2 25 25 ... 27 17  3]\n [ 2 29  4 ...  0  0  0]]\n"
     ]
    },
    {
     "name": "stdout",
     "output_type": "stream",
     "text": [
      "decoder-input [[ 2 11 12 ...  0  0  0]\n [ 2 10 10 ...  3  0  0]\n [ 2 10 27 ... 17  9 21]\n ...\n [ 2  7 11 ...  9  8  3]\n [ 2 19 19 ...  8 15 23]\n [ 2 24  7 ...  0  0  0]]\ndecoder-input [[ 2 14  6 ...  5 15  3]\n [ 2 14  6 ... 20  3  0]\n [ 2 24 10 ...  0  0  0]\n ...\n [ 2 24  6 ... 12 15  3]\n [ 2 10 19 ... 20 15  3]\n [ 2 14 11 ... 18  4 21]]\ndecoder-input [[ 2  7 14 ...  0  0  0]\n [ 2 29 27 ...  0  0  0]\n [ 2 28 17 ...  0  0  0]\n ...\n [ 2 22  4 ...  0  0  0]\n [ 2 26  3 ...  0  0  0]\n [ 2 29  3 ...  0  0  0]]\ndecoder-input [[ 2 24 28 ... 29 16 15]\n [ 2  7 25 ...  0  0  0]\n [ 2 25 14 ...  3  0  0]\n ...\n [ 2 19 28 ... 12 15  3]\n [ 2 24 19 ... 11 26 26]\n [ 2 21  3 ...  0  0  0]]\ndecoder-input [[ 2 29 21 ...  0  0  0]\n [ 2 19  3 ...  0  0  0]\n [ 2 10 10 ... 16 26  9]\n ...\n [ 2 24 22 ...  4  3  0]\n [ 2 24 16 ...  0  0  0]\n [ 2 14 11 ... 13 20  3]]\ndecoder-input [[ 2 11 27 ... 23  3  0]\n [ 2 10 22 ...  9 12  3]\n [ 2 10 19 ... 18  8  3]\n ...\n [ 2 29 15 ...  0  0  0]\n [ 2 29 11 ...  0  0  0]\n [ 2 10  3 ...  0  0  0]]\ndecoder-input [[ 2 24 11 ...  0  0  0]\n [ 2 28 16 ...  0  0  0]\n [ 2 16  9 ...  0  0  0]\n ...\n [ 2 13 13 ... 12  3  0]\n [ 2 11  3 ...  0  0  0]\n [ 2 10 28 ...  0  0  0]]\ndecoder-input [[ 2  7  4 ...  0  0  0]\n [ 2 29 11 ... 15  3  0]\n [ 2 24 26 ... 18  5 15]\n ...\n [ 2 14  4 ... 15 23  3]\n [ 2 24 10 ... 12  3  0]\n [ 2 14  3 ...  0  0  0]]\ndecoder-input [[ 2 24  7 ... 18 15  3]\n [ 2 10 13 ...  0  0  0]\n [ 2 25 27 ...  8  3  0]\n ...\n [ 2 25 22 ... 15  3  0]\n [ 2 28  6 ...  0  0  0]\n [ 2 11 11 ...  3  0  0]]\ndecoder-input [[ 2 13  8 ...  0  0  0]\n [ 2 29 16 ... 17 20  3]\n [ 2 24  3 ...  0  0  0]\n ...\n [ 2 24 19 ... 27  9 15]\n [ 2  6 17 ...  0  0  0]\n [ 2 24 29 ...  3  0  0]]\ndecoder-input [[ 2 25 17 ...  0  0  0]\n [ 2 29 23 ...  0  0  0]\n [ 2  5  3 ...  0  0  0]\n ...\n [ 2 26  3 ...  0  0  0]\n [ 2 19 17 ...  0  0  0]\n [ 2  5  3 ...  0  0  0]]\ndecoder-input [[ 2 14  6 ...  9 15  3]\n [ 2 24 25 ...  3  0  0]\n [ 2 25  3 ...  0  0  0]\n ...\n [ 2 28  3 ...  0  0  0]\n [ 2 12  3 ...  0  0  0]\n [ 2 28 17 ...  0  0  0]]\ndecoder-input [[ 2  8  3 ...  0  0  0]\n [ 2 19 27 ...  0  0  0]\n [ 2 11 26 ... 13 21 21]\n ...\n [ 2 16  3 ...  0  0  0]\n [ 2  6 26 ...  3  0  0]\n [ 2 28 27 ...  0  0  0]]\ndecoder-input [[ 2 27  3 ...  0  0  0]\n [ 2 22 27 ...  3  0  0]\n [ 2 25 13 ...  3  0  0]\n ...\n [ 2 14  6 ...  3  0  0]\n [ 2 28 14 ... 21 23  3]\n [ 2 14 29 ... 18 12 12]]\n"
     ]
    },
    {
     "name": "stdout",
     "output_type": "stream",
     "text": [
      "decoder-input [[ 2  6 13 ...  0  0  0]\n [ 2  9 21 ...  0  0  0]\n [ 2 16 16 ...  3  0  0]\n ...\n [ 2  7  3 ...  0  0  0]\n [ 2 24  7 ... 20  3  0]\n [ 2  7  4 ...  0  0  0]]\ndecoder-input [[ 2 22  3 ...  0  0  0]\n [ 2 16 15 ...  0  0  0]\n [ 2 10 22 ...  0  0  0]\n ...\n [ 2 14 21 ...  0  0  0]\n [ 2 20  3 ...  0  0  0]\n [ 2 25 26 ...  3  0  0]]\ndecoder-input [[ 2 24 24 ...  5  3  0]\n [ 2 24  8 ... 15 23  3]\n [ 2 24 14 ...  0  0  0]\n ...\n [ 2 24 16 ...  8 21 15]\n [ 2 24 19 ... 12 15 23]\n [ 2 10 19 ...  6  4  3]]\ndecoder-input [[ 2 19 27 ...  0  0  0]\n [ 2 25 14 ...  3  0  0]\n [ 2 19 19 ... 14 11 17]\n ...\n [ 2 28 25 ...  0  0  0]\n [ 2 10 11 ... 18  5 20]\n [ 2 24 28 ... 15  3  0]]\ndecoder-input [[ 2  7 11 ...  0  0  0]\n [ 2 24 26 ... 13  4 12]\n [ 2  4  3 ...  0  0  0]\n ...\n [ 2 19 11 ...  0  0  0]\n [ 2  5 12 ...  0  0  0]\n [ 2 13 23 ...  0  0  0]]\ndecoder-input [[ 2 14 23 ...  0  0  0]\n [ 2 11  6 ... 12 15  3]\n [ 2 28 29 ... 20 20 23]\n ...\n [ 2 10  3 ...  0  0  0]\n [ 2 11  3 ...  0  0  0]\n [ 2 19 14 ... 13 21  3]]\ndecoder-input [[ 2 28 25 ...  3  0  0]\n [ 2 29  6 ...  9 21  3]\n [ 2 28 16 ... 18  5  3]\n ...\n [ 2  7  9 ...  0  0  0]\n [ 2 27 18 ...  0  0  0]\n [ 2 27 13 ...  3  0  0]]\ndecoder-input [[ 2 10  7 ...  3  0  0]\n [ 2  6 27 ... 15  3  0]\n [ 2 14 29 ... 22  4 15]\n ...\n [ 2 25 13 ...  0  0  0]\n [ 2  6 27 ... 12 15  3]\n [ 2  6  6 ... 23  3  0]]\ndecoder-input [[ 2 24 18 ... 21  3  0]\n [ 2 10 19 ... 16 26 18]\n [ 2 11 27 ...  0  0  0]\n ...\n [ 2 19 14 ...  6 27  3]\n [ 2 16 22 ... 15 23  3]\n [ 2 10 10 ...  4 15 23]]\ndecoder-input [[ 2 17  4 ...  8 15 23]\n [ 2  6  9 ...  3  0  0]\n [ 2 11 27 ...  0  0  0]\n ...\n [ 2 16 20 ...  0  0  0]\n [ 2 19 22 ...  0  0  0]\n [ 2 24 19 ... 20  3  0]]\ndecoder-input [[ 2 28 13 ...  0  0  0]\n [ 2 25 11 ...  0  0  0]\n [ 2 28 29 ...  5  3  0]\n ...\n [ 2 19 19 ...  8 21 15]\n [ 2 28 28 ...  8  3  0]\n [ 2 19  7 ...  3  0  0]]\ndecoder-input [[ 2 10 15 ...  0  0  0]\n [ 2 22  3 ...  0  0  0]\n [ 2 28 11 ... 13 20 21]\n ...\n [ 2 24 25 ... 12  3  0]\n [ 2 24 10 ...  3  0  0]\n [ 2 16 26 ... 20  3  0]]\ndecoder-input [[ 2 11  6 ...  0  0  0]\n [ 2 28  5 ...  3  0  0]\n [ 2 24 28 ... 26 20  3]\n ...\n [ 2 14 18 ...  5 21  3]\n [ 2 22 22 ...  3  0  0]\n [ 2 25 11 ...  0  0  0]]\ndecoder-input [[ 2  6  9 ...  0  0  0]\n [ 2 25 11 ... 13 13  3]\n [ 2 11  3 ...  0  0  0]\n ...\n [ 2 25  6 ... 13 21 21]\n [ 2 16 16 ... 18 20  3]\n [ 2 25 11 ... 12  3  0]]\n"
     ]
    },
    {
     "name": "stdout",
     "output_type": "stream",
     "text": [
      "decoder-input [[ 2 28 14 ... 17  9 12]\n [ 2 19 29 ...  5  3  0]\n [ 2 24 14 ...  3  0  0]\n ...\n [ 2 10 11 ... 13  3  0]\n [ 2  7 29 ...  3  0  0]\n [ 2 11 26 ... 18 23  3]]\ndecoder-input [[ 2 10 10 ... 17  3  0]\n [ 2 10 27 ...  5 23  3]\n [ 2  7 14 ... 13 12 21]\n ...\n [ 2 24 11 ... 13  4 23]\n [ 2  7  7 ...  3  0  0]\n [ 2 19 14 ...  0  0  0]]\ndecoder-input [[ 2 22 18 ...  0  0  0]\n [ 2  7 29 ...  8 20  3]\n [ 2 15  3 ...  0  0  0]\n ...\n [ 2 27  3 ...  0  0  0]\n [ 2 10 13 ... 20 21 23]\n [ 2 29 12 ...  0  0  0]]\ndecoder-input [[ 2  6  3 ...  0  0  0]\n [ 2 28 11 ...  0  0  0]\n [ 2 24 16 ...  0  0  0]\n ...\n [ 2 23  3 ...  0  0  0]\n [ 2 25 26 ... 15 15  3]\n [ 2  4 15 ...  0  0  0]]\ndecoder-input [[ 2  7  3 ...  0  0  0]\n [ 2 11 27 ...  5 12 23]\n [ 2 28 25 ... 22  3  0]\n ...\n [ 2 19  3 ...  0  0  0]\n [ 2  4 21 ...  0  0  0]\n [ 2 14  6 ...  0  0  0]]\ndecoder-input [[ 2 16 26 ...  5 12  3]\n [ 2 10 28 ...  0  0  0]\n [ 2  9  5 ...  0  0  0]\n ...\n [ 2 10 16 ...  0  0  0]\n [ 2 10 19 ... 23  3  0]\n [ 2 19 29 ... 18 15  3]]\ndecoder-input [[ 2 19 29 ...  9 12  3]\n [ 2 14  6 ...  0  0  0]\n [ 2 26  5 ...  0  0  0]\n ...\n [ 2 15  3 ...  0  0  0]\n [ 2 20 21 ...  0  0  0]\n [ 2 19 28 ...  8 21  3]]\ndecoder-input [[ 2 24 16 ...  9  3  0]\n [ 2 19 20 ...  0  0  0]\n [ 2 10  3 ...  0  0  0]\n ...\n [ 2 23  3 ...  0  0  0]\n [ 2  7 16 ...  8  5 21]\n [ 2 24 19 ...  0  0  0]]\ndecoder-input [[ 2 22  9 ...  0  0  0]\n [ 2 24 19 ...  5 12 21]\n [ 2 11  3 ...  0  0  0]\n ...\n [ 2 28 22 ...  3  0  0]\n [ 2 27  3 ...  0  0  0]\n [ 2 16 26 ...  4 12  3]]\ndecoder-input [[ 2 24 10 ... 13 20 12]\n [ 2 24 19 ... 26  4 21]\n [ 2 11 26 ... 13 13  9]\n ...\n [ 2 12 21 ...  0  0  0]\n [ 2 29 22 ...  4 20  3]\n [ 2 22  9 ...  0  0  0]]\ndecoder-input [[ 2 14  5 ...  0  0  0]\n [ 2  7 29 ...  3  0  0]\n [ 2 28 25 ...  4  9 20]\n ...\n [ 2 17  5 ...  0  0  0]\n [ 2 27 20 ...  0  0  0]\n [ 2 10 29 ... 27  5  3]]\nEpoch   1/80 Batch   50/77 - Training Loss:  2.869  - Validation loss:  2.862\ndecoder-input [[ 2  9 15 ...  0  0  0]\n [ 2  7 29 ... 21  3  0]\n [ 2 13 13 ...  3  0  0]\n ...\n [ 2 14 14 ... 21  3  0]\n [ 2 22 17 ...  3  0  0]\n [ 2  6 23 ...  0  0  0]]\ndecoder-input [[ 2 24  6 ...  3  0  0]\n [ 2  9  3 ...  0  0  0]\n [ 2 19 27 ... 17 18  9]\n ...\n [ 2 26 12 ...  0  0  0]\n [ 2 25 29 ... 21  3  0]\n [ 2 10 28 ...  5 21  3]]\n"
     ]
    },
    {
     "name": "stdout",
     "output_type": "stream",
     "text": [
      "decoder-input [[ 2 19  9 ...  0  0  0]\n [ 2 24 28 ... 22 27 13]\n [ 2 11 26 ...  0  0  0]\n ...\n [ 2 29 27 ...  3  0  0]\n [ 2 28 28 ... 23  3  0]\n [ 2 10 27 ... 21 15  3]]\ndecoder-input [[ 2 21  3 ...  0  0  0]\n [ 2 10 17 ...  3  0  0]\n [ 2 19 29 ...  3  0  0]\n ...\n [ 2 10  7 ... 21  3  0]\n [ 2  4  3 ...  0  0  0]\n [ 2 19 25 ...  3  0  0]]\ndecoder-input [[ 2 25  6 ... 20 21 15]\n [ 2 14 29 ...  8 12  3]\n [ 2 22  3 ...  0  0  0]\n ...\n [ 2 25  4 ...  0  0  0]\n [ 2 19 26 ...  5 15  3]\n [ 2 27 13 ...  0  0  0]]\ndecoder-input [[ 2  7 18 ...  0  0  0]\n [ 2 28  6 ...  3  0  0]\n [ 2  4  3 ...  0  0  0]\n ...\n [ 2 25 29 ... 21  3  0]\n [ 2 19 19 ... 13 13  4]\n [ 2  6 18 ...  3  0  0]]\ndecoder-input [[ 2 10 10 ... 12 21 15]\n [ 2 24 10 ... 14 11 17]\n [ 2 11  6 ... 21 21 15]\n ...\n [ 2 27 13 ... 12 21  3]\n [ 2  7 25 ...  3  0  0]\n [ 2 19  8 ...  0  0  0]]\ndecoder-input [[ 2 15  3 ...  0  0  0]\n [ 2 14 29 ...  3  0  0]\n [ 2  6 21 ...  0  0  0]\n ...\n [ 2 24 10 ...  7 27  3]\n [ 2 10  6 ...  5  3  0]\n [ 2 19 29 ...  0  0  0]]\ndecoder-input [[ 2 24 27 ...  0  0  0]\n [ 2 28 14 ... 22 17  3]\n [ 2 16 16 ... 17 20 21]\n ...\n [ 2 19 25 ...  3  0  0]\n [ 2 14 29 ...  8  5  3]\n [ 2 25 12 ...  0  0  0]]\ndecoder-input [[ 2 24 10 ... 13  3  0]\n [ 2 17 20 ...  0  0  0]\n [ 2 10 27 ... 23 23  3]\n ...\n [ 2 19 19 ... 23  3  0]\n [ 2 18  8 ...  0  0  0]\n [ 2 19 28 ...  0  0  0]]\ndecoder-input [[ 2 28 27 ...  0  0  0]\n [ 2 10 19 ... 26 13  3]\n [ 2 10 11 ... 23  3  0]\n ...\n [ 2 28 16 ... 20  3  0]\n [ 2 25 14 ...  3  0  0]\n [ 2 20  3 ...  0  0  0]]\ndecoder-input [[ 2 29 26 ...  3  0  0]\n [ 2 18  4 ... 20 12  3]\n [ 2 29 29 ... 13  3  0]\n ...\n [ 2  7 18 ...  0  0  0]\n [ 2  9  3 ...  0  0  0]\n [ 2 24 10 ... 13  3  0]]\ndecoder-input [[ 2 10  7 ... 20 20 21]\n [ 2 19 28 ... 13  3  0]\n [ 2 15  3 ...  0  0  0]\n ...\n [ 2 17 18 ... 12  3  0]\n [ 2 11 17 ...  3  0  0]\n [ 2 25 29 ...  8 20 15]]\ndecoder-input [[ 2 22  5 ...  0  0  0]\n [ 2  7 23 ...  0  0  0]\n [ 2 16  4 ...  3  0  0]\n ...\n [ 2 11  6 ... 21  3  0]\n [ 2  6  9 ...  0  0  0]\n [ 2  4  5 ...  0  0  0]]\ndecoder-input [[ 2 10 28 ... 21  3  0]\n [ 2 24  5 ...  3  0  0]\n [ 2 21 15 ...  0  0  0]\n ...\n [ 2 24 28 ... 17 20 20]\n [ 2  7  6 ...  4  4  9]\n [ 2 18  5 ...  0  0  0]]\n"
     ]
    },
    {
     "name": "stdout",
     "output_type": "stream",
     "text": [
      "decoder-input [[ 2 28  3 ...  0  0  0]\n [ 2 24  7 ... 26 22 18]\n [ 2 24 24 ... 29  8  3]\n ...\n [ 2 17 23 ...  0  0  0]\n [ 2 19 25 ... 12 21  3]\n [ 2 24 19 ...  0  0  0]]\ndecoder-input [[ 2 28 25 ... 20 12 12]\n [ 2 19 26 ...  3  0  0]\n [ 2  5  3 ...  0  0  0]\n ...\n [ 2  7 14 ...  0  0  0]\n [ 2 24 16 ...  0  0  0]\n [ 2 24 19 ...  4  3  0]]\ndecoder-input [[ 2 12  3 ...  0  0  0]\n [ 2 19 29 ...  0  0  0]\n [ 2 10  7 ... 13 20 21]\n ...\n [ 2 28 27 ...  3  0  0]\n [ 2 28 14 ... 20 12  3]\n [ 2 22  3 ...  0  0  0]]\ndecoder-input [[ 2 19  7 ... 13  5  3]\n [ 2 25 25 ... 27 18  3]\n [ 2 10 11 ...  6 15 23]\n ...\n [ 2  9  3 ...  0  0  0]\n [ 2 24  7 ...  9  5  3]\n [ 2 19 28 ...  3  0  0]]\ndecoder-input [[ 2 19  7 ... 26 21 15]\n [ 2 10 19 ...  3  0  0]\n [ 2 19  3 ...  0  0  0]\n ...\n [ 2 24 16 ... 21 23  3]\n [ 2  6 26 ... 21  3  0]\n [ 2 25 29 ... 18 13  4]]\ndecoder-input [[ 2 25 29 ...  0  0  0]\n [ 2 17  5 ...  0  0  0]\n [ 2  7 14 ...  8  8 23]\n ...\n [ 2  6  4 ...  0  0  0]\n [ 2 25 27 ...  3  0  0]\n [ 2 16  6 ...  3  0  0]]\ndecoder-input [[ 2 10 19 ...  3  0  0]\n [ 2  7 16 ...  0  0  0]\n [ 2 10 19 ... 12 12  3]\n ...\n [ 2 29 16 ...  3  0  0]\n [ 2 19 28 ...  0  0  0]\n [ 2 22 27 ...  9 15  3]]\ndecoder-input [[ 2 28 14 ... 17 13  8]\n [ 2  7 13 ... 20 12  3]\n [ 2  7 29 ... 18  8  3]\n ...\n [ 2 29 29 ...  9 20 23]\n [ 2 27  9 ... 15  3  0]\n [ 2 28  9 ...  0  0  0]]\ndecoder-input [[ 2 19  6 ...  0  0  0]\n [ 2 10 19 ... 17 12 23]\n [ 2 11  6 ...  0  0  0]\n ...\n [ 2 24 27 ... 23  3  0]\n [ 2 14 11 ...  3  0  0]\n [ 2 10 10 ... 27 23  3]]\ndecoder-input [[ 2 25  6 ... 23  3  0]\n [ 2 28 17 ...  0  0  0]\n [ 2 14 11 ...  3  0  0]\n ...\n [ 2 16 17 ... 23  3  0]\n [ 2 26  4 ...  0  0  0]\n [ 2  6 17 ...  3  0  0]]\ndecoder-input [[ 2  7  6 ... 12 15  3]\n [ 2 24 11 ...  4 12 21]\n [ 2 17 18 ...  5 21 21]\n ...\n [ 2 15  3 ...  0  0  0]\n [ 2 25 16 ...  0  0  0]\n [ 2 11  9 ...  0  0  0]]\ndecoder-input [[ 2 25 27 ...  0  0  0]\n [ 2 16  6 ...  0  0  0]\n [ 2 14 18 ...  8 12  3]\n ...\n [ 2 14 29 ... 12 12  3]\n [ 2 19 14 ... 12  3  0]\n [ 2 24 11 ...  9  8 20]]\n"
     ]
    },
    {
     "name": "stdout",
     "output_type": "stream",
     "text": [
      "Epoch   2/80 Batch    0/77 - Training Loss:  2.520  - Validation loss:  2.527\ndecoder-input [[ 2 24  3 ...  0  0  0]\n [ 2  6  6 ...  0  0  0]\n [ 2 10 10 ...  0  0  0]\n ...\n [ 2 10 10 ...  5 20  3]\n [ 2 24 10 ... 14  3  0]\n [ 2 29  8 ...  0  0  0]]\ndecoder-input [[ 2 25  4 ...  3  0  0]\n [ 2 27 17 ... 12  3  0]\n [ 2 11 16 ...  3  0  0]\n ...\n [ 2 28 29 ...  4  3  0]\n [ 2  6 27 ...  3  0  0]\n [ 2 25  6 ...  0  0  0]]\ndecoder-input [[ 2 22 18 ... 20 15  3]\n [ 2 16 26 ... 18  3  0]\n [ 2 19  7 ...  3  0  0]\n ...\n [ 2  7 16 ...  0  0  0]\n [ 2 28 21 ...  0  0  0]\n [ 2 24 22 ...  3  0  0]]\ndecoder-input [[ 2 26 27 ...  0  0  0]\n [ 2 28 25 ...  0  0  0]\n [ 2 29 11 ...  9 21  3]\n ...\n [ 2 20  3 ...  0  0  0]\n [ 2  7  9 ...  0  0  0]\n [ 2 17 20 ...  0  0  0]]\ndecoder-input [[ 2  7  9 ...  0  0  0]\n [ 2 16  6 ...  4 20  3]\n [ 2 29 16 ...  9 12  3]\n ...\n [ 2 28  4 ...  3  0  0]\n [ 2 24 28 ...  5 20 20]\n [ 2  7 26 ...  3  0  0]]\ndecoder-input [[ 2  6 27 ...  0  0  0]\n [ 2 14 16 ... 12 21 15]\n [ 2 10 19 ...  3  0  0]\n ...\n [ 2 27  3 ...  0  0  0]\n [ 2  7 14 ...  9  3  0]\n [ 2 25 13 ...  0  0  0]]\ndecoder-input [[ 2 11 11 ...  3  0  0]\n [ 2 10  3 ...  0  0  0]\n [ 2 19 14 ... 18  9  9]\n ...\n [ 2 29  4 ...  0  0  0]\n [ 2 28 11 ...  0  0  0]\n [ 2 24 19 ... 29 11 15]]\ndecoder-input [[ 2 29 16 ...  3  0  0]\n [ 2 11  3 ...  0  0  0]\n [ 2 10  7 ...  4 23  3]\n ...\n [ 2  6 27 ... 20 15  3]\n [ 2 28 29 ...  3  0  0]\n [ 2 28 11 ...  8  3  0]]\ndecoder-input [[ 2  4  8 ...  0  0  0]\n [ 2 19 18 ...  0  0  0]\n [ 2 10 14 ... 17 15  3]\n ...\n [ 2 27  3 ...  0  0  0]\n [ 2  7 28 ...  3  0  0]\n [ 2 16 22 ...  0  0  0]]\ndecoder-input [[ 2 24  4 ...  3  0  0]\n [ 2 25 25 ... 20  3  0]\n [ 2 24  7 ...  9 12  3]\n ...\n [ 2 14 20 ... 23  3  0]\n [ 2 10 28 ...  0  0  0]\n [ 2 29  6 ...  3  0  0]]\ndecoder-input [[ 2 14 17 ...  0  0  0]\n [ 2 10 10 ... 20  3  0]\n [ 2 28 11 ... 15 15 23]\n ...\n [ 2 16  9 ...  0  0  0]\n [ 2 25 25 ... 27 17  3]\n [ 2 29  4 ...  0  0  0]]\ndecoder-input [[ 2 11 12 ...  0  0  0]\n [ 2 10 10 ...  3  0  0]\n [ 2 10 27 ... 17  9 21]\n ...\n [ 2  7 11 ...  9  8  3]\n [ 2 19 19 ...  8 15 23]\n [ 2 24  7 ...  0  0  0]]\ndecoder-input [[ 2 14  6 ...  5 15  3]\n [ 2 14  6 ... 20  3  0]\n [ 2 24 10 ...  0  0  0]\n ...\n [ 2 24  6 ... 12 15  3]\n [ 2 10 19 ... 20 15  3]\n [ 2 14 11 ... 18  4 21]]\ndecoder-input [[ 2  7 14 ...  0  0  0]\n [ 2 29 27 ...  0  0  0]\n [ 2 28 17 ...  0  0  0]\n ...\n [ 2 22  4 ...  0  0  0]\n [ 2 26  3 ...  0  0  0]\n [ 2 29  3 ...  0  0  0]]\n"
     ]
    },
    {
     "name": "stdout",
     "output_type": "stream",
     "text": [
      "decoder-input [[ 2 24 28 ... 29 16 15]\n [ 2  7 25 ...  0  0  0]\n [ 2 25 14 ...  3  0  0]\n ...\n [ 2 19 28 ... 12 15  3]\n [ 2 24 19 ... 11 26 26]\n [ 2 21  3 ...  0  0  0]]\ndecoder-input [[ 2 29 21 ...  0  0  0]\n [ 2 19  3 ...  0  0  0]\n [ 2 10 10 ... 16 26  9]\n ...\n [ 2 24 22 ...  4  3  0]\n [ 2 24 16 ...  0  0  0]\n [ 2 14 11 ... 13 20  3]]\ndecoder-input [[ 2 11 27 ... 23  3  0]\n [ 2 10 22 ...  9 12  3]\n [ 2 10 19 ... 18  8  3]\n ...\n [ 2 29 15 ...  0  0  0]\n [ 2 29 11 ...  0  0  0]\n [ 2 10  3 ...  0  0  0]]\ndecoder-input [[ 2 24 11 ...  0  0  0]\n [ 2 28 16 ...  0  0  0]\n [ 2 16  9 ...  0  0  0]\n ...\n [ 2 13 13 ... 12  3  0]\n [ 2 11  3 ...  0  0  0]\n [ 2 10 28 ...  0  0  0]]\ndecoder-input [[ 2  7  4 ...  0  0  0]\n [ 2 29 11 ... 15  3  0]\n [ 2 24 26 ... 18  5 15]\n ...\n [ 2 14  4 ... 15 23  3]\n [ 2 24 10 ... 12  3  0]\n [ 2 14  3 ...  0  0  0]]\ndecoder-input [[ 2 24  7 ... 18 15  3]\n [ 2 10 13 ...  0  0  0]\n [ 2 25 27 ...  8  3  0]\n ...\n [ 2 25 22 ... 15  3  0]\n [ 2 28  6 ...  0  0  0]\n [ 2 11 11 ...  3  0  0]]\ndecoder-input [[ 2 13  8 ...  0  0  0]\n [ 2 29 16 ... 17 20  3]\n [ 2 24  3 ...  0  0  0]\n ...\n [ 2 24 19 ... 27  9 15]\n [ 2  6 17 ...  0  0  0]\n [ 2 24 29 ...  3  0  0]]\ndecoder-input [[ 2 25 17 ...  0  0  0]\n [ 2 29 23 ...  0  0  0]\n [ 2  5  3 ...  0  0  0]\n ...\n [ 2 26  3 ...  0  0  0]\n [ 2 19 17 ...  0  0  0]\n [ 2  5  3 ...  0  0  0]]\ndecoder-input [[ 2 14  6 ...  9 15  3]\n [ 2 24 25 ...  3  0  0]\n [ 2 25  3 ...  0  0  0]\n ...\n [ 2 28  3 ...  0  0  0]\n [ 2 12  3 ...  0  0  0]\n [ 2 28 17 ...  0  0  0]]\ndecoder-input [[ 2  8  3 ...  0  0  0]\n [ 2 19 27 ...  0  0  0]\n [ 2 11 26 ... 13 21 21]\n ...\n [ 2 16  3 ...  0  0  0]\n [ 2  6 26 ...  3  0  0]\n [ 2 28 27 ...  0  0  0]]\ndecoder-input [[ 2 27  3 ...  0  0  0]\n [ 2 22 27 ...  3  0  0]\n [ 2 25 13 ...  3  0  0]\n ...\n [ 2 14  6 ...  3  0  0]\n [ 2 28 14 ... 21 23  3]\n [ 2 14 29 ... 18 12 12]]\ndecoder-input [[ 2  6 13 ...  0  0  0]\n [ 2  9 21 ...  0  0  0]\n [ 2 16 16 ...  3  0  0]\n ...\n [ 2  7  3 ...  0  0  0]\n [ 2 24  7 ... 20  3  0]\n [ 2  7  4 ...  0  0  0]]\ndecoder-input [[ 2 22  3 ...  0  0  0]\n [ 2 16 15 ...  0  0  0]\n [ 2 10 22 ...  0  0  0]\n ...\n [ 2 14 21 ...  0  0  0]\n [ 2 20  3 ...  0  0  0]\n [ 2 25 26 ...  3  0  0]]\n"
     ]
    },
    {
     "name": "stdout",
     "output_type": "stream",
     "text": [
      "decoder-input [[ 2 24 24 ...  5  3  0]\n [ 2 24  8 ... 15 23  3]\n [ 2 24 14 ...  0  0  0]\n ...\n [ 2 24 16 ...  8 21 15]\n [ 2 24 19 ... 12 15 23]\n [ 2 10 19 ...  6  4  3]]\ndecoder-input [[ 2 19 27 ...  0  0  0]\n [ 2 25 14 ...  3  0  0]\n [ 2 19 19 ... 14 11 17]\n ...\n [ 2 28 25 ...  0  0  0]\n [ 2 10 11 ... 18  5 20]\n [ 2 24 28 ... 15  3  0]]\ndecoder-input [[ 2  7 11 ...  0  0  0]\n [ 2 24 26 ... 13  4 12]\n [ 2  4  3 ...  0  0  0]\n ...\n [ 2 19 11 ...  0  0  0]\n [ 2  5 12 ...  0  0  0]\n [ 2 13 23 ...  0  0  0]]\ndecoder-input [[ 2 14 23 ...  0  0  0]\n [ 2 11  6 ... 12 15  3]\n [ 2 28 29 ... 20 20 23]\n ...\n [ 2 10  3 ...  0  0  0]\n [ 2 11  3 ...  0  0  0]\n [ 2 19 14 ... 13 21  3]]\ndecoder-input [[ 2 28 25 ...  3  0  0]\n [ 2 29  6 ...  9 21  3]\n [ 2 28 16 ... 18  5  3]\n ...\n [ 2  7  9 ...  0  0  0]\n [ 2 27 18 ...  0  0  0]\n [ 2 27 13 ...  3  0  0]]\ndecoder-input [[ 2 10  7 ...  3  0  0]\n [ 2  6 27 ... 15  3  0]\n [ 2 14 29 ... 22  4 15]\n ...\n [ 2 25 13 ...  0  0  0]\n [ 2  6 27 ... 12 15  3]\n [ 2  6  6 ... 23  3  0]]\ndecoder-input [[ 2 24 18 ... 21  3  0]\n [ 2 10 19 ... 16 26 18]\n [ 2 11 27 ...  0  0  0]\n ...\n [ 2 19 14 ...  6 27  3]\n [ 2 16 22 ... 15 23  3]\n [ 2 10 10 ...  4 15 23]]\ndecoder-input [[ 2 17  4 ...  8 15 23]\n [ 2  6  9 ...  3  0  0]\n [ 2 11 27 ...  0  0  0]\n ...\n [ 2 16 20 ...  0  0  0]\n [ 2 19 22 ...  0  0  0]\n [ 2 24 19 ... 20  3  0]]\ndecoder-input [[ 2 28 13 ...  0  0  0]\n [ 2 25 11 ...  0  0  0]\n [ 2 28 29 ...  5  3  0]\n ...\n [ 2 19 19 ...  8 21 15]\n [ 2 28 28 ...  8  3  0]\n [ 2 19  7 ...  3  0  0]]\ndecoder-input [[ 2 10 15 ...  0  0  0]\n [ 2 22  3 ...  0  0  0]\n [ 2 28 11 ... 13 20 21]\n ...\n [ 2 24 25 ... 12  3  0]\n [ 2 24 10 ...  3  0  0]\n [ 2 16 26 ... 20  3  0]]\ndecoder-input [[ 2 11  6 ...  0  0  0]\n [ 2 28  5 ...  3  0  0]\n [ 2 24 28 ... 26 20  3]\n ...\n [ 2 14 18 ...  5 21  3]\n [ 2 22 22 ...  3  0  0]\n [ 2 25 11 ...  0  0  0]]\ndecoder-input [[ 2  6  9 ...  0  0  0]\n [ 2 25 11 ... 13 13  3]\n [ 2 11  3 ...  0  0  0]\n ...\n [ 2 25  6 ... 13 21 21]\n [ 2 16 16 ... 18 20  3]\n [ 2 25 11 ... 12  3  0]]\ndecoder-input [[ 2 28 14 ... 17  9 12]\n [ 2 19 29 ...  5  3  0]\n [ 2 24 14 ...  3  0  0]\n ...\n [ 2 10 11 ... 13  3  0]\n [ 2  7 29 ...  3  0  0]\n [ 2 11 26 ... 18 23  3]]\n"
     ]
    },
    {
     "name": "stdout",
     "output_type": "stream",
     "text": [
      "decoder-input [[ 2 10 10 ... 17  3  0]\n [ 2 10 27 ...  5 23  3]\n [ 2  7 14 ... 13 12 21]\n ...\n [ 2 24 11 ... 13  4 23]\n [ 2  7  7 ...  3  0  0]\n [ 2 19 14 ...  0  0  0]]\ndecoder-input [[ 2 22 18 ...  0  0  0]\n [ 2  7 29 ...  8 20  3]\n [ 2 15  3 ...  0  0  0]\n ...\n [ 2 27  3 ...  0  0  0]\n [ 2 10 13 ... 20 21 23]\n [ 2 29 12 ...  0  0  0]]\ndecoder-input [[ 2  6  3 ...  0  0  0]\n [ 2 28 11 ...  0  0  0]\n [ 2 24 16 ...  0  0  0]\n ...\n [ 2 23  3 ...  0  0  0]\n [ 2 25 26 ... 15 15  3]\n [ 2  4 15 ...  0  0  0]]\ndecoder-input [[ 2  7  3 ...  0  0  0]\n [ 2 11 27 ...  5 12 23]\n [ 2 28 25 ... 22  3  0]\n ...\n [ 2 19  3 ...  0  0  0]\n [ 2  4 21 ...  0  0  0]\n [ 2 14  6 ...  0  0  0]]\ndecoder-input [[ 2 16 26 ...  5 12  3]\n [ 2 10 28 ...  0  0  0]\n [ 2  9  5 ...  0  0  0]\n ...\n [ 2 10 16 ...  0  0  0]\n [ 2 10 19 ... 23  3  0]\n [ 2 19 29 ... 18 15  3]]\ndecoder-input [[ 2 19 29 ...  9 12  3]\n [ 2 14  6 ...  0  0  0]\n [ 2 26  5 ...  0  0  0]\n ...\n [ 2 15  3 ...  0  0  0]\n [ 2 20 21 ...  0  0  0]\n [ 2 19 28 ...  8 21  3]]\ndecoder-input [[ 2 24 16 ...  9  3  0]\n [ 2 19 20 ...  0  0  0]\n [ 2 10  3 ...  0  0  0]\n ...\n [ 2 23  3 ...  0  0  0]\n [ 2  7 16 ...  8  5 21]\n [ 2 24 19 ...  0  0  0]]\ndecoder-input [[ 2 22  9 ...  0  0  0]\n [ 2 24 19 ...  5 12 21]\n [ 2 11  3 ...  0  0  0]\n ...\n [ 2 28 22 ...  3  0  0]\n [ 2 27  3 ...  0  0  0]\n [ 2 16 26 ...  4 12  3]]\ndecoder-input [[ 2 24 10 ... 13 20 12]\n [ 2 24 19 ... 26  4 21]\n [ 2 11 26 ... 13 13  9]\n ...\n [ 2 12 21 ...  0  0  0]\n [ 2 29 22 ...  4 20  3]\n [ 2 22  9 ...  0  0  0]]\ndecoder-input [[ 2 14  5 ...  0  0  0]\n [ 2  7 29 ...  3  0  0]\n [ 2 28 25 ...  4  9 20]\n ...\n [ 2 17  5 ...  0  0  0]\n [ 2 27 20 ...  0  0  0]\n [ 2 10 29 ... 27  5  3]]\nEpoch   2/80 Batch   50/77 - Training Loss:  2.149  - Validation loss:  2.160\ndecoder-input [[ 2  9 15 ...  0  0  0]\n [ 2  7 29 ... 21  3  0]\n [ 2 13 13 ...  3  0  0]\n ...\n [ 2 14 14 ... 21  3  0]\n [ 2 22 17 ...  3  0  0]\n [ 2  6 23 ...  0  0  0]]\ndecoder-input [[ 2 24  6 ...  3  0  0]\n [ 2  9  3 ...  0  0  0]\n [ 2 19 27 ... 17 18  9]\n ...\n [ 2 26 12 ...  0  0  0]\n [ 2 25 29 ... 21  3  0]\n [ 2 10 28 ...  5 21  3]]\ndecoder-input [[ 2 19  9 ...  0  0  0]\n [ 2 24 28 ... 22 27 13]\n [ 2 11 26 ...  0  0  0]\n ...\n [ 2 29 27 ...  3  0  0]\n [ 2 28 28 ... 23  3  0]\n [ 2 10 27 ... 21 15  3]]\n"
     ]
    },
    {
     "name": "stdout",
     "output_type": "stream",
     "text": [
      "decoder-input [[ 2 21  3 ...  0  0  0]\n [ 2 10 17 ...  3  0  0]\n [ 2 19 29 ...  3  0  0]\n ...\n [ 2 10  7 ... 21  3  0]\n [ 2  4  3 ...  0  0  0]\n [ 2 19 25 ...  3  0  0]]\ndecoder-input [[ 2 25  6 ... 20 21 15]\n [ 2 14 29 ...  8 12  3]\n [ 2 22  3 ...  0  0  0]\n ...\n [ 2 25  4 ...  0  0  0]\n [ 2 19 26 ...  5 15  3]\n [ 2 27 13 ...  0  0  0]]\ndecoder-input [[ 2  7 18 ...  0  0  0]\n [ 2 28  6 ...  3  0  0]\n [ 2  4  3 ...  0  0  0]\n ...\n [ 2 25 29 ... 21  3  0]\n [ 2 19 19 ... 13 13  4]\n [ 2  6 18 ...  3  0  0]]\ndecoder-input [[ 2 10 10 ... 12 21 15]\n [ 2 24 10 ... 14 11 17]\n [ 2 11  6 ... 21 21 15]\n ...\n [ 2 27 13 ... 12 21  3]\n [ 2  7 25 ...  3  0  0]\n [ 2 19  8 ...  0  0  0]]\ndecoder-input [[ 2 15  3 ...  0  0  0]\n [ 2 14 29 ...  3  0  0]\n [ 2  6 21 ...  0  0  0]\n ...\n [ 2 24 10 ...  7 27  3]\n [ 2 10  6 ...  5  3  0]\n [ 2 19 29 ...  0  0  0]]\ndecoder-input [[ 2 24 27 ...  0  0  0]\n [ 2 28 14 ... 22 17  3]\n [ 2 16 16 ... 17 20 21]\n ...\n [ 2 19 25 ...  3  0  0]\n [ 2 14 29 ...  8  5  3]\n [ 2 25 12 ...  0  0  0]]\ndecoder-input [[ 2 24 10 ... 13  3  0]\n [ 2 17 20 ...  0  0  0]\n [ 2 10 27 ... 23 23  3]\n ...\n [ 2 19 19 ... 23  3  0]\n [ 2 18  8 ...  0  0  0]\n [ 2 19 28 ...  0  0  0]]\ndecoder-input [[ 2 28 27 ...  0  0  0]\n [ 2 10 19 ... 26 13  3]\n [ 2 10 11 ... 23  3  0]\n ...\n [ 2 28 16 ... 20  3  0]\n [ 2 25 14 ...  3  0  0]\n [ 2 20  3 ...  0  0  0]]\ndecoder-input [[ 2 29 26 ...  3  0  0]\n [ 2 18  4 ... 20 12  3]\n [ 2 29 29 ... 13  3  0]\n ...\n [ 2  7 18 ...  0  0  0]\n [ 2  9  3 ...  0  0  0]\n [ 2 24 10 ... 13  3  0]]\ndecoder-input [[ 2 10  7 ... 20 20 21]\n [ 2 19 28 ... 13  3  0]\n [ 2 15  3 ...  0  0  0]\n ...\n [ 2 17 18 ... 12  3  0]\n [ 2 11 17 ...  3  0  0]\n [ 2 25 29 ...  8 20 15]]\ndecoder-input [[ 2 22  5 ...  0  0  0]\n [ 2  7 23 ...  0  0  0]\n [ 2 16  4 ...  3  0  0]\n ...\n [ 2 11  6 ... 21  3  0]\n [ 2  6  9 ...  0  0  0]\n [ 2  4  5 ...  0  0  0]]\ndecoder-input [[ 2 10 28 ... 21  3  0]\n [ 2 24  5 ...  3  0  0]\n [ 2 21 15 ...  0  0  0]\n ...\n [ 2 24 28 ... 17 20 20]\n [ 2  7  6 ...  4  4  9]\n [ 2 18  5 ...  0  0  0]]\ndecoder-input [[ 2 28  3 ...  0  0  0]\n [ 2 24  7 ... 26 22 18]\n [ 2 24 24 ... 29  8  3]\n ...\n [ 2 17 23 ...  0  0  0]\n [ 2 19 25 ... 12 21  3]\n [ 2 24 19 ...  0  0  0]]\n"
     ]
    },
    {
     "name": "stdout",
     "output_type": "stream",
     "text": [
      "decoder-input [[ 2 28 25 ... 20 12 12]\n [ 2 19 26 ...  3  0  0]\n [ 2  5  3 ...  0  0  0]\n ...\n [ 2  7 14 ...  0  0  0]\n [ 2 24 16 ...  0  0  0]\n [ 2 24 19 ...  4  3  0]]\ndecoder-input [[ 2 12  3 ...  0  0  0]\n [ 2 19 29 ...  0  0  0]\n [ 2 10  7 ... 13 20 21]\n ...\n [ 2 28 27 ...  3  0  0]\n [ 2 28 14 ... 20 12  3]\n [ 2 22  3 ...  0  0  0]]\ndecoder-input [[ 2 19  7 ... 13  5  3]\n [ 2 25 25 ... 27 18  3]\n [ 2 10 11 ...  6 15 23]\n ...\n [ 2  9  3 ...  0  0  0]\n [ 2 24  7 ...  9  5  3]\n [ 2 19 28 ...  3  0  0]]\ndecoder-input [[ 2 19  7 ... 26 21 15]\n [ 2 10 19 ...  3  0  0]\n [ 2 19  3 ...  0  0  0]\n ...\n [ 2 24 16 ... 21 23  3]\n [ 2  6 26 ... 21  3  0]\n [ 2 25 29 ... 18 13  4]]\ndecoder-input [[ 2 25 29 ...  0  0  0]\n [ 2 17  5 ...  0  0  0]\n [ 2  7 14 ...  8  8 23]\n ...\n [ 2  6  4 ...  0  0  0]\n [ 2 25 27 ...  3  0  0]\n [ 2 16  6 ...  3  0  0]]\ndecoder-input [[ 2 10 19 ...  3  0  0]\n [ 2  7 16 ...  0  0  0]\n [ 2 10 19 ... 12 12  3]\n ...\n [ 2 29 16 ...  3  0  0]\n [ 2 19 28 ...  0  0  0]\n [ 2 22 27 ...  9 15  3]]\ndecoder-input [[ 2 28 14 ... 17 13  8]\n [ 2  7 13 ... 20 12  3]\n [ 2  7 29 ... 18  8  3]\n ...\n [ 2 29 29 ...  9 20 23]\n [ 2 27  9 ... 15  3  0]\n [ 2 28  9 ...  0  0  0]]\ndecoder-input [[ 2 19  6 ...  0  0  0]\n [ 2 10 19 ... 17 12 23]\n [ 2 11  6 ...  0  0  0]\n ...\n [ 2 24 27 ... 23  3  0]\n [ 2 14 11 ...  3  0  0]\n [ 2 10 10 ... 27 23  3]]\ndecoder-input [[ 2 25  6 ... 23  3  0]\n [ 2 28 17 ...  0  0  0]\n [ 2 14 11 ...  3  0  0]\n ...\n [ 2 16 17 ... 23  3  0]\n [ 2 26  4 ...  0  0  0]\n [ 2  6 17 ...  3  0  0]]\ndecoder-input [[ 2  7  6 ... 12 15  3]\n [ 2 24 11 ...  4 12 21]\n [ 2 17 18 ...  5 21 21]\n ...\n [ 2 15  3 ...  0  0  0]\n [ 2 25 16 ...  0  0  0]\n [ 2 11  9 ...  0  0  0]]\ndecoder-input [[ 2 25 27 ...  0  0  0]\n [ 2 16  6 ...  0  0  0]\n [ 2 14 18 ...  8 12  3]\n ...\n [ 2 14 29 ... 12 12  3]\n [ 2 19 14 ... 12  3  0]\n [ 2 24 11 ...  9  8 20]]\nEpoch   3/80 Batch    0/77 - Training Loss:  2.005  - Validation loss:  2.006\ndecoder-input [[ 2 24  3 ...  0  0  0]\n [ 2  6  6 ...  0  0  0]\n [ 2 10 10 ...  0  0  0]\n ...\n [ 2 10 10 ...  5 20  3]\n [ 2 24 10 ... 14  3  0]\n [ 2 29  8 ...  0  0  0]]\ndecoder-input [[ 2 25  4 ...  3  0  0]\n [ 2 27 17 ... 12  3  0]\n [ 2 11 16 ...  3  0  0]\n ...\n [ 2 28 29 ...  4  3  0]\n [ 2  6 27 ...  3  0  0]\n [ 2 25  6 ...  0  0  0]]\n"
     ]
    },
    {
     "name": "stdout",
     "output_type": "stream",
     "text": [
      "decoder-input [[ 2 22 18 ... 20 15  3]\n [ 2 16 26 ... 18  3  0]\n [ 2 19  7 ...  3  0  0]\n ...\n [ 2  7 16 ...  0  0  0]\n [ 2 28 21 ...  0  0  0]\n [ 2 24 22 ...  3  0  0]]\ndecoder-input [[ 2 26 27 ...  0  0  0]\n [ 2 28 25 ...  0  0  0]\n [ 2 29 11 ...  9 21  3]\n ...\n [ 2 20  3 ...  0  0  0]\n [ 2  7  9 ...  0  0  0]\n [ 2 17 20 ...  0  0  0]]\ndecoder-input [[ 2  7  9 ...  0  0  0]\n [ 2 16  6 ...  4 20  3]\n [ 2 29 16 ...  9 12  3]\n ...\n [ 2 28  4 ...  3  0  0]\n [ 2 24 28 ...  5 20 20]\n [ 2  7 26 ...  3  0  0]]\ndecoder-input [[ 2  6 27 ...  0  0  0]\n [ 2 14 16 ... 12 21 15]\n [ 2 10 19 ...  3  0  0]\n ...\n [ 2 27  3 ...  0  0  0]\n [ 2  7 14 ...  9  3  0]\n [ 2 25 13 ...  0  0  0]]\ndecoder-input [[ 2 11 11 ...  3  0  0]\n [ 2 10  3 ...  0  0  0]\n [ 2 19 14 ... 18  9  9]\n ...\n [ 2 29  4 ...  0  0  0]\n [ 2 28 11 ...  0  0  0]\n [ 2 24 19 ... 29 11 15]]\ndecoder-input [[ 2 29 16 ...  3  0  0]\n [ 2 11  3 ...  0  0  0]\n [ 2 10  7 ...  4 23  3]\n ...\n [ 2  6 27 ... 20 15  3]\n [ 2 28 29 ...  3  0  0]\n [ 2 28 11 ...  8  3  0]]\ndecoder-input [[ 2  4  8 ...  0  0  0]\n [ 2 19 18 ...  0  0  0]\n [ 2 10 14 ... 17 15  3]\n ...\n [ 2 27  3 ...  0  0  0]\n [ 2  7 28 ...  3  0  0]\n [ 2 16 22 ...  0  0  0]]\ndecoder-input [[ 2 24  4 ...  3  0  0]\n [ 2 25 25 ... 20  3  0]\n [ 2 24  7 ...  9 12  3]\n ...\n [ 2 14 20 ... 23  3  0]\n [ 2 10 28 ...  0  0  0]\n [ 2 29  6 ...  3  0  0]]\ndecoder-input [[ 2 14 17 ...  0  0  0]\n [ 2 10 10 ... 20  3  0]\n [ 2 28 11 ... 15 15 23]\n ...\n [ 2 16  9 ...  0  0  0]\n [ 2 25 25 ... 27 17  3]\n [ 2 29  4 ...  0  0  0]]\ndecoder-input [[ 2 11 12 ...  0  0  0]\n [ 2 10 10 ...  3  0  0]\n [ 2 10 27 ... 17  9 21]\n ...\n [ 2  7 11 ...  9  8  3]\n [ 2 19 19 ...  8 15 23]\n [ 2 24  7 ...  0  0  0]]\ndecoder-input [[ 2 14  6 ...  5 15  3]\n [ 2 14  6 ... 20  3  0]\n [ 2 24 10 ...  0  0  0]\n ...\n [ 2 24  6 ... 12 15  3]\n [ 2 10 19 ... 20 15  3]\n [ 2 14 11 ... 18  4 21]]\ndecoder-input [[ 2  7 14 ...  0  0  0]\n [ 2 29 27 ...  0  0  0]\n [ 2 28 17 ...  0  0  0]\n ...\n [ 2 22  4 ...  0  0  0]\n [ 2 26  3 ...  0  0  0]\n [ 2 29  3 ...  0  0  0]]\ndecoder-input [[ 2 24 28 ... 29 16 15]\n [ 2  7 25 ...  0  0  0]\n [ 2 25 14 ...  3  0  0]\n ...\n [ 2 19 28 ... 12 15  3]\n [ 2 24 19 ... 11 26 26]\n [ 2 21  3 ...  0  0  0]]\n"
     ]
    },
    {
     "name": "stdout",
     "output_type": "stream",
     "text": [
      "decoder-input [[ 2 29 21 ...  0  0  0]\n [ 2 19  3 ...  0  0  0]\n [ 2 10 10 ... 16 26  9]\n ...\n [ 2 24 22 ...  4  3  0]\n [ 2 24 16 ...  0  0  0]\n [ 2 14 11 ... 13 20  3]]\ndecoder-input [[ 2 11 27 ... 23  3  0]\n [ 2 10 22 ...  9 12  3]\n [ 2 10 19 ... 18  8  3]\n ...\n [ 2 29 15 ...  0  0  0]\n [ 2 29 11 ...  0  0  0]\n [ 2 10  3 ...  0  0  0]]\ndecoder-input [[ 2 24 11 ...  0  0  0]\n [ 2 28 16 ...  0  0  0]\n [ 2 16  9 ...  0  0  0]\n ...\n [ 2 13 13 ... 12  3  0]\n [ 2 11  3 ...  0  0  0]\n [ 2 10 28 ...  0  0  0]]\ndecoder-input [[ 2  7  4 ...  0  0  0]\n [ 2 29 11 ... 15  3  0]\n [ 2 24 26 ... 18  5 15]\n ...\n [ 2 14  4 ... 15 23  3]\n [ 2 24 10 ... 12  3  0]\n [ 2 14  3 ...  0  0  0]]\ndecoder-input [[ 2 24  7 ... 18 15  3]\n [ 2 10 13 ...  0  0  0]\n [ 2 25 27 ...  8  3  0]\n ...\n [ 2 25 22 ... 15  3  0]\n [ 2 28  6 ...  0  0  0]\n [ 2 11 11 ...  3  0  0]]\ndecoder-input [[ 2 13  8 ...  0  0  0]\n [ 2 29 16 ... 17 20  3]\n [ 2 24  3 ...  0  0  0]\n ...\n [ 2 24 19 ... 27  9 15]\n [ 2  6 17 ...  0  0  0]\n [ 2 24 29 ...  3  0  0]]\ndecoder-input [[ 2 25 17 ...  0  0  0]\n [ 2 29 23 ...  0  0  0]\n [ 2  5  3 ...  0  0  0]\n ...\n [ 2 26  3 ...  0  0  0]\n [ 2 19 17 ...  0  0  0]\n [ 2  5  3 ...  0  0  0]]\ndecoder-input [[ 2 14  6 ...  9 15  3]\n [ 2 24 25 ...  3  0  0]\n [ 2 25  3 ...  0  0  0]\n ...\n [ 2 28  3 ...  0  0  0]\n [ 2 12  3 ...  0  0  0]\n [ 2 28 17 ...  0  0  0]]\ndecoder-input [[ 2  8  3 ...  0  0  0]\n [ 2 19 27 ...  0  0  0]\n [ 2 11 26 ... 13 21 21]\n ...\n [ 2 16  3 ...  0  0  0]\n [ 2  6 26 ...  3  0  0]\n [ 2 28 27 ...  0  0  0]]\ndecoder-input [[ 2 27  3 ...  0  0  0]\n [ 2 22 27 ...  3  0  0]\n [ 2 25 13 ...  3  0  0]\n ...\n [ 2 14  6 ...  3  0  0]\n [ 2 28 14 ... 21 23  3]\n [ 2 14 29 ... 18 12 12]]\ndecoder-input [[ 2  6 13 ...  0  0  0]\n [ 2  9 21 ...  0  0  0]\n [ 2 16 16 ...  3  0  0]\n ...\n [ 2  7  3 ...  0  0  0]\n [ 2 24  7 ... 20  3  0]\n [ 2  7  4 ...  0  0  0]]\ndecoder-input [[ 2 22  3 ...  0  0  0]\n [ 2 16 15 ...  0  0  0]\n [ 2 10 22 ...  0  0  0]\n ...\n [ 2 14 21 ...  0  0  0]\n [ 2 20  3 ...  0  0  0]\n [ 2 25 26 ...  3  0  0]]\ndecoder-input [[ 2 24 24 ...  5  3  0]\n [ 2 24  8 ... 15 23  3]\n [ 2 24 14 ...  0  0  0]\n ...\n [ 2 24 16 ...  8 21 15]\n [ 2 24 19 ... 12 15 23]\n [ 2 10 19 ...  6  4  3]]\n"
     ]
    },
    {
     "name": "stdout",
     "output_type": "stream",
     "text": [
      "decoder-input [[ 2 19 27 ...  0  0  0]\n [ 2 25 14 ...  3  0  0]\n [ 2 19 19 ... 14 11 17]\n ...\n [ 2 28 25 ...  0  0  0]\n [ 2 10 11 ... 18  5 20]\n [ 2 24 28 ... 15  3  0]]\ndecoder-input [[ 2  7 11 ...  0  0  0]\n [ 2 24 26 ... 13  4 12]\n [ 2  4  3 ...  0  0  0]\n ...\n [ 2 19 11 ...  0  0  0]\n [ 2  5 12 ...  0  0  0]\n [ 2 13 23 ...  0  0  0]]\ndecoder-input [[ 2 14 23 ...  0  0  0]\n [ 2 11  6 ... 12 15  3]\n [ 2 28 29 ... 20 20 23]\n ...\n [ 2 10  3 ...  0  0  0]\n [ 2 11  3 ...  0  0  0]\n [ 2 19 14 ... 13 21  3]]\ndecoder-input [[ 2 28 25 ...  3  0  0]\n [ 2 29  6 ...  9 21  3]\n [ 2 28 16 ... 18  5  3]\n ...\n [ 2  7  9 ...  0  0  0]\n [ 2 27 18 ...  0  0  0]\n [ 2 27 13 ...  3  0  0]]\ndecoder-input [[ 2 10  7 ...  3  0  0]\n [ 2  6 27 ... 15  3  0]\n [ 2 14 29 ... 22  4 15]\n ...\n [ 2 25 13 ...  0  0  0]\n [ 2  6 27 ... 12 15  3]\n [ 2  6  6 ... 23  3  0]]\ndecoder-input [[ 2 24 18 ... 21  3  0]\n [ 2 10 19 ... 16 26 18]\n [ 2 11 27 ...  0  0  0]\n ...\n [ 2 19 14 ...  6 27  3]\n [ 2 16 22 ... 15 23  3]\n [ 2 10 10 ...  4 15 23]]\ndecoder-input [[ 2 17  4 ...  8 15 23]\n [ 2  6  9 ...  3  0  0]\n [ 2 11 27 ...  0  0  0]\n ...\n [ 2 16 20 ...  0  0  0]\n [ 2 19 22 ...  0  0  0]\n [ 2 24 19 ... 20  3  0]]\ndecoder-input [[ 2 28 13 ...  0  0  0]\n [ 2 25 11 ...  0  0  0]\n [ 2 28 29 ...  5  3  0]\n ...\n [ 2 19 19 ...  8 21 15]\n [ 2 28 28 ...  8  3  0]\n [ 2 19  7 ...  3  0  0]]\ndecoder-input [[ 2 10 15 ...  0  0  0]\n [ 2 22  3 ...  0  0  0]\n [ 2 28 11 ... 13 20 21]\n ...\n [ 2 24 25 ... 12  3  0]\n [ 2 24 10 ...  3  0  0]\n [ 2 16 26 ... 20  3  0]]\ndecoder-input [[ 2 11  6 ...  0  0  0]\n [ 2 28  5 ...  3  0  0]\n [ 2 24 28 ... 26 20  3]\n ...\n [ 2 14 18 ...  5 21  3]\n [ 2 22 22 ...  3  0  0]\n [ 2 25 11 ...  0  0  0]]\ndecoder-input [[ 2  6  9 ...  0  0  0]\n [ 2 25 11 ... 13 13  3]\n [ 2 11  3 ...  0  0  0]\n ...\n [ 2 25  6 ... 13 21 21]\n [ 2 16 16 ... 18 20  3]\n [ 2 25 11 ... 12  3  0]]\ndecoder-input [[ 2 28 14 ... 17  9 12]\n [ 2 19 29 ...  5  3  0]\n [ 2 24 14 ...  3  0  0]\n ...\n [ 2 10 11 ... 13  3  0]\n [ 2  7 29 ...  3  0  0]\n [ 2 11 26 ... 18 23  3]]\ndecoder-input [[ 2 10 10 ... 17  3  0]\n [ 2 10 27 ...  5 23  3]\n [ 2  7 14 ... 13 12 21]\n ...\n [ 2 24 11 ... 13  4 23]\n [ 2  7  7 ...  3  0  0]\n [ 2 19 14 ...  0  0  0]]\n"
     ]
    },
    {
     "name": "stdout",
     "output_type": "stream",
     "text": [
      "decoder-input [[ 2 22 18 ...  0  0  0]\n [ 2  7 29 ...  8 20  3]\n [ 2 15  3 ...  0  0  0]\n ...\n [ 2 27  3 ...  0  0  0]\n [ 2 10 13 ... 20 21 23]\n [ 2 29 12 ...  0  0  0]]\ndecoder-input [[ 2  6  3 ...  0  0  0]\n [ 2 28 11 ...  0  0  0]\n [ 2 24 16 ...  0  0  0]\n ...\n [ 2 23  3 ...  0  0  0]\n [ 2 25 26 ... 15 15  3]\n [ 2  4 15 ...  0  0  0]]\ndecoder-input [[ 2  7  3 ...  0  0  0]\n [ 2 11 27 ...  5 12 23]\n [ 2 28 25 ... 22  3  0]\n ...\n [ 2 19  3 ...  0  0  0]\n [ 2  4 21 ...  0  0  0]\n [ 2 14  6 ...  0  0  0]]\ndecoder-input [[ 2 16 26 ...  5 12  3]\n [ 2 10 28 ...  0  0  0]\n [ 2  9  5 ...  0  0  0]\n ...\n [ 2 10 16 ...  0  0  0]\n [ 2 10 19 ... 23  3  0]\n [ 2 19 29 ... 18 15  3]]\ndecoder-input [[ 2 19 29 ...  9 12  3]\n [ 2 14  6 ...  0  0  0]\n [ 2 26  5 ...  0  0  0]\n ...\n [ 2 15  3 ...  0  0  0]\n [ 2 20 21 ...  0  0  0]\n [ 2 19 28 ...  8 21  3]]\ndecoder-input [[ 2 24 16 ...  9  3  0]\n [ 2 19 20 ...  0  0  0]\n [ 2 10  3 ...  0  0  0]\n ...\n [ 2 23  3 ...  0  0  0]\n [ 2  7 16 ...  8  5 21]\n [ 2 24 19 ...  0  0  0]]\ndecoder-input [[ 2 22  9 ...  0  0  0]\n [ 2 24 19 ...  5 12 21]\n [ 2 11  3 ...  0  0  0]\n ...\n [ 2 28 22 ...  3  0  0]\n [ 2 27  3 ...  0  0  0]\n [ 2 16 26 ...  4 12  3]]\ndecoder-input [[ 2 24 10 ... 13 20 12]\n [ 2 24 19 ... 26  4 21]\n [ 2 11 26 ... 13 13  9]\n ...\n [ 2 12 21 ...  0  0  0]\n [ 2 29 22 ...  4 20  3]\n [ 2 22  9 ...  0  0  0]]\ndecoder-input [[ 2 14  5 ...  0  0  0]\n [ 2  7 29 ...  3  0  0]\n [ 2 28 25 ...  4  9 20]\n ...\n [ 2 17  5 ...  0  0  0]\n [ 2 27 20 ...  0  0  0]\n [ 2 10 29 ... 27  5  3]]\nEpoch   3/80 Batch   50/77 - Training Loss:  1.783  - Validation loss:  1.750\ndecoder-input [[ 2  9 15 ...  0  0  0]\n [ 2  7 29 ... 21  3  0]\n [ 2 13 13 ...  3  0  0]\n ...\n [ 2 14 14 ... 21  3  0]\n [ 2 22 17 ...  3  0  0]\n [ 2  6 23 ...  0  0  0]]\ndecoder-input [[ 2 24  6 ...  3  0  0]\n [ 2  9  3 ...  0  0  0]\n [ 2 19 27 ... 17 18  9]\n ...\n [ 2 26 12 ...  0  0  0]\n [ 2 25 29 ... 21  3  0]\n [ 2 10 28 ...  5 21  3]]\ndecoder-input [[ 2 19  9 ...  0  0  0]\n [ 2 24 28 ... 22 27 13]\n [ 2 11 26 ...  0  0  0]\n ...\n [ 2 29 27 ...  3  0  0]\n [ 2 28 28 ... 23  3  0]\n [ 2 10 27 ... 21 15  3]]\ndecoder-input [[ 2 21  3 ...  0  0  0]\n [ 2 10 17 ...  3  0  0]\n [ 2 19 29 ...  3  0  0]\n ...\n [ 2 10  7 ... 21  3  0]\n [ 2  4  3 ...  0  0  0]\n [ 2 19 25 ...  3  0  0]]\n"
     ]
    },
    {
     "name": "stdout",
     "output_type": "stream",
     "text": [
      "decoder-input [[ 2 25  6 ... 20 21 15]\n [ 2 14 29 ...  8 12  3]\n [ 2 22  3 ...  0  0  0]\n ...\n [ 2 25  4 ...  0  0  0]\n [ 2 19 26 ...  5 15  3]\n [ 2 27 13 ...  0  0  0]]\ndecoder-input [[ 2  7 18 ...  0  0  0]\n [ 2 28  6 ...  3  0  0]\n [ 2  4  3 ...  0  0  0]\n ...\n [ 2 25 29 ... 21  3  0]\n [ 2 19 19 ... 13 13  4]\n [ 2  6 18 ...  3  0  0]]\ndecoder-input [[ 2 10 10 ... 12 21 15]\n [ 2 24 10 ... 14 11 17]\n [ 2 11  6 ... 21 21 15]\n ...\n [ 2 27 13 ... 12 21  3]\n [ 2  7 25 ...  3  0  0]\n [ 2 19  8 ...  0  0  0]]\ndecoder-input [[ 2 15  3 ...  0  0  0]\n [ 2 14 29 ...  3  0  0]\n [ 2  6 21 ...  0  0  0]\n ...\n [ 2 24 10 ...  7 27  3]\n [ 2 10  6 ...  5  3  0]\n [ 2 19 29 ...  0  0  0]]\ndecoder-input [[ 2 24 27 ...  0  0  0]\n [ 2 28 14 ... 22 17  3]\n [ 2 16 16 ... 17 20 21]\n ...\n [ 2 19 25 ...  3  0  0]\n [ 2 14 29 ...  8  5  3]\n [ 2 25 12 ...  0  0  0]]\ndecoder-input [[ 2 24 10 ... 13  3  0]\n [ 2 17 20 ...  0  0  0]\n [ 2 10 27 ... 23 23  3]\n ...\n [ 2 19 19 ... 23  3  0]\n [ 2 18  8 ...  0  0  0]\n [ 2 19 28 ...  0  0  0]]\ndecoder-input [[ 2 28 27 ...  0  0  0]\n [ 2 10 19 ... 26 13  3]\n [ 2 10 11 ... 23  3  0]\n ...\n [ 2 28 16 ... 20  3  0]\n [ 2 25 14 ...  3  0  0]\n [ 2 20  3 ...  0  0  0]]\ndecoder-input [[ 2 29 26 ...  3  0  0]\n [ 2 18  4 ... 20 12  3]\n [ 2 29 29 ... 13  3  0]\n ...\n [ 2  7 18 ...  0  0  0]\n [ 2  9  3 ...  0  0  0]\n [ 2 24 10 ... 13  3  0]]\ndecoder-input [[ 2 10  7 ... 20 20 21]\n [ 2 19 28 ... 13  3  0]\n [ 2 15  3 ...  0  0  0]\n ...\n [ 2 17 18 ... 12  3  0]\n [ 2 11 17 ...  3  0  0]\n [ 2 25 29 ...  8 20 15]]\ndecoder-input [[ 2 22  5 ...  0  0  0]\n [ 2  7 23 ...  0  0  0]\n [ 2 16  4 ...  3  0  0]\n ...\n [ 2 11  6 ... 21  3  0]\n [ 2  6  9 ...  0  0  0]\n [ 2  4  5 ...  0  0  0]]\ndecoder-input [[ 2 10 28 ... 21  3  0]\n [ 2 24  5 ...  3  0  0]\n [ 2 21 15 ...  0  0  0]\n ...\n [ 2 24 28 ... 17 20 20]\n [ 2  7  6 ...  4  4  9]\n [ 2 18  5 ...  0  0  0]]\ndecoder-input [[ 2 28  3 ...  0  0  0]\n [ 2 24  7 ... 26 22 18]\n [ 2 24 24 ... 29  8  3]\n ...\n [ 2 17 23 ...  0  0  0]\n [ 2 19 25 ... 12 21  3]\n [ 2 24 19 ...  0  0  0]]\ndecoder-input [[ 2 28 25 ... 20 12 12]\n [ 2 19 26 ...  3  0  0]\n [ 2  5  3 ...  0  0  0]\n ...\n [ 2  7 14 ...  0  0  0]\n [ 2 24 16 ...  0  0  0]\n [ 2 24 19 ...  4  3  0]]\n"
     ]
    },
    {
     "name": "stdout",
     "output_type": "stream",
     "text": [
      "decoder-input [[ 2 12  3 ...  0  0  0]\n [ 2 19 29 ...  0  0  0]\n [ 2 10  7 ... 13 20 21]\n ...\n [ 2 28 27 ...  3  0  0]\n [ 2 28 14 ... 20 12  3]\n [ 2 22  3 ...  0  0  0]]\ndecoder-input [[ 2 19  7 ... 13  5  3]\n [ 2 25 25 ... 27 18  3]\n [ 2 10 11 ...  6 15 23]\n ...\n [ 2  9  3 ...  0  0  0]\n [ 2 24  7 ...  9  5  3]\n [ 2 19 28 ...  3  0  0]]\ndecoder-input [[ 2 19  7 ... 26 21 15]\n [ 2 10 19 ...  3  0  0]\n [ 2 19  3 ...  0  0  0]\n ...\n [ 2 24 16 ... 21 23  3]\n [ 2  6 26 ... 21  3  0]\n [ 2 25 29 ... 18 13  4]]\ndecoder-input [[ 2 25 29 ...  0  0  0]\n [ 2 17  5 ...  0  0  0]\n [ 2  7 14 ...  8  8 23]\n ...\n [ 2  6  4 ...  0  0  0]\n [ 2 25 27 ...  3  0  0]\n [ 2 16  6 ...  3  0  0]]\ndecoder-input [[ 2 10 19 ...  3  0  0]\n [ 2  7 16 ...  0  0  0]\n [ 2 10 19 ... 12 12  3]\n ...\n [ 2 29 16 ...  3  0  0]\n [ 2 19 28 ...  0  0  0]\n [ 2 22 27 ...  9 15  3]]\ndecoder-input [[ 2 28 14 ... 17 13  8]\n [ 2  7 13 ... 20 12  3]\n [ 2  7 29 ... 18  8  3]\n ...\n [ 2 29 29 ...  9 20 23]\n [ 2 27  9 ... 15  3  0]\n [ 2 28  9 ...  0  0  0]]\ndecoder-input [[ 2 19  6 ...  0  0  0]\n [ 2 10 19 ... 17 12 23]\n [ 2 11  6 ...  0  0  0]\n ...\n [ 2 24 27 ... 23  3  0]\n [ 2 14 11 ...  3  0  0]\n [ 2 10 10 ... 27 23  3]]\ndecoder-input [[ 2 25  6 ... 23  3  0]\n [ 2 28 17 ...  0  0  0]\n [ 2 14 11 ...  3  0  0]\n ...\n [ 2 16 17 ... 23  3  0]\n [ 2 26  4 ...  0  0  0]\n [ 2  6 17 ...  3  0  0]]\ndecoder-input [[ 2  7  6 ... 12 15  3]\n [ 2 24 11 ...  4 12 21]\n [ 2 17 18 ...  5 21 21]\n ...\n [ 2 15  3 ...  0  0  0]\n [ 2 25 16 ...  0  0  0]\n [ 2 11  9 ...  0  0  0]]\ndecoder-input [[ 2 25 27 ...  0  0  0]\n [ 2 16  6 ...  0  0  0]\n [ 2 14 18 ...  8 12  3]\n ...\n [ 2 14 29 ... 12 12  3]\n [ 2 19 14 ... 12  3  0]\n [ 2 24 11 ...  9  8 20]]\nEpoch   4/80 Batch    0/77 - Training Loss:  1.648  - Validation loss:  1.644\ndecoder-input [[ 2 24  3 ...  0  0  0]\n [ 2  6  6 ...  0  0  0]\n [ 2 10 10 ...  0  0  0]\n ...\n [ 2 10 10 ...  5 20  3]\n [ 2 24 10 ... 14  3  0]\n [ 2 29  8 ...  0  0  0]]\ndecoder-input [[ 2 25  4 ...  3  0  0]\n [ 2 27 17 ... 12  3  0]\n [ 2 11 16 ...  3  0  0]\n ...\n [ 2 28 29 ...  4  3  0]\n [ 2  6 27 ...  3  0  0]\n [ 2 25  6 ...  0  0  0]]\ndecoder-input [[ 2 22 18 ... 20 15  3]\n [ 2 16 26 ... 18  3  0]\n [ 2 19  7 ...  3  0  0]\n ...\n [ 2  7 16 ...  0  0  0]\n [ 2 28 21 ...  0  0  0]\n [ 2 24 22 ...  3  0  0]]\n"
     ]
    },
    {
     "name": "stdout",
     "output_type": "stream",
     "text": [
      "decoder-input [[ 2 26 27 ...  0  0  0]\n [ 2 28 25 ...  0  0  0]\n [ 2 29 11 ...  9 21  3]\n ...\n [ 2 20  3 ...  0  0  0]\n [ 2  7  9 ...  0  0  0]\n [ 2 17 20 ...  0  0  0]]\ndecoder-input [[ 2  7  9 ...  0  0  0]\n [ 2 16  6 ...  4 20  3]\n [ 2 29 16 ...  9 12  3]\n ...\n [ 2 28  4 ...  3  0  0]\n [ 2 24 28 ...  5 20 20]\n [ 2  7 26 ...  3  0  0]]\ndecoder-input [[ 2  6 27 ...  0  0  0]\n [ 2 14 16 ... 12 21 15]\n [ 2 10 19 ...  3  0  0]\n ...\n [ 2 27  3 ...  0  0  0]\n [ 2  7 14 ...  9  3  0]\n [ 2 25 13 ...  0  0  0]]\ndecoder-input [[ 2 11 11 ...  3  0  0]\n [ 2 10  3 ...  0  0  0]\n [ 2 19 14 ... 18  9  9]\n ...\n [ 2 29  4 ...  0  0  0]\n [ 2 28 11 ...  0  0  0]\n [ 2 24 19 ... 29 11 15]]\ndecoder-input [[ 2 29 16 ...  3  0  0]\n [ 2 11  3 ...  0  0  0]\n [ 2 10  7 ...  4 23  3]\n ...\n [ 2  6 27 ... 20 15  3]\n [ 2 28 29 ...  3  0  0]\n [ 2 28 11 ...  8  3  0]]\ndecoder-input [[ 2  4  8 ...  0  0  0]\n [ 2 19 18 ...  0  0  0]\n [ 2 10 14 ... 17 15  3]\n ...\n [ 2 27  3 ...  0  0  0]\n [ 2  7 28 ...  3  0  0]\n [ 2 16 22 ...  0  0  0]]\ndecoder-input [[ 2 24  4 ...  3  0  0]\n [ 2 25 25 ... 20  3  0]\n [ 2 24  7 ...  9 12  3]\n ...\n [ 2 14 20 ... 23  3  0]\n [ 2 10 28 ...  0  0  0]\n [ 2 29  6 ...  3  0  0]]\ndecoder-input [[ 2 14 17 ...  0  0  0]\n [ 2 10 10 ... 20  3  0]\n [ 2 28 11 ... 15 15 23]\n ...\n [ 2 16  9 ...  0  0  0]\n [ 2 25 25 ... 27 17  3]\n [ 2 29  4 ...  0  0  0]]\ndecoder-input [[ 2 11 12 ...  0  0  0]\n [ 2 10 10 ...  3  0  0]\n [ 2 10 27 ... 17  9 21]\n ...\n [ 2  7 11 ...  9  8  3]\n [ 2 19 19 ...  8 15 23]\n [ 2 24  7 ...  0  0  0]]\ndecoder-input [[ 2 14  6 ...  5 15  3]\n [ 2 14  6 ... 20  3  0]\n [ 2 24 10 ...  0  0  0]\n ...\n [ 2 24  6 ... 12 15  3]\n [ 2 10 19 ... 20 15  3]\n [ 2 14 11 ... 18  4 21]]\ndecoder-input [[ 2  7 14 ...  0  0  0]\n [ 2 29 27 ...  0  0  0]\n [ 2 28 17 ...  0  0  0]\n ...\n [ 2 22  4 ...  0  0  0]\n [ 2 26  3 ...  0  0  0]\n [ 2 29  3 ...  0  0  0]]\ndecoder-input [[ 2 24 28 ... 29 16 15]\n [ 2  7 25 ...  0  0  0]\n [ 2 25 14 ...  3  0  0]\n ...\n [ 2 19 28 ... 12 15  3]\n [ 2 24 19 ... 11 26 26]\n [ 2 21  3 ...  0  0  0]]\ndecoder-input [[ 2 29 21 ...  0  0  0]\n [ 2 19  3 ...  0  0  0]\n [ 2 10 10 ... 16 26  9]\n ...\n [ 2 24 22 ...  4  3  0]\n [ 2 24 16 ...  0  0  0]\n [ 2 14 11 ... 13 20  3]]\ndecoder-input [[ 2 11 27 ... 23  3  0]\n [ 2 10 22 ...  9 12  3]\n [ 2 10 19 ... 18  8  3]\n ...\n [ 2 29 15 ...  0  0  0]\n [ 2 29 11 ...  0  0  0]\n [ 2 10  3 ...  0  0  0]]\n"
     ]
    },
    {
     "name": "stdout",
     "output_type": "stream",
     "text": [
      "decoder-input [[ 2 24 11 ...  0  0  0]\n [ 2 28 16 ...  0  0  0]\n [ 2 16  9 ...  0  0  0]\n ...\n [ 2 13 13 ... 12  3  0]\n [ 2 11  3 ...  0  0  0]\n [ 2 10 28 ...  0  0  0]]\ndecoder-input [[ 2  7  4 ...  0  0  0]\n [ 2 29 11 ... 15  3  0]\n [ 2 24 26 ... 18  5 15]\n ...\n [ 2 14  4 ... 15 23  3]\n [ 2 24 10 ... 12  3  0]\n [ 2 14  3 ...  0  0  0]]\ndecoder-input [[ 2 24  7 ... 18 15  3]\n [ 2 10 13 ...  0  0  0]\n [ 2 25 27 ...  8  3  0]\n ...\n [ 2 25 22 ... 15  3  0]\n [ 2 28  6 ...  0  0  0]\n [ 2 11 11 ...  3  0  0]]\ndecoder-input [[ 2 13  8 ...  0  0  0]\n [ 2 29 16 ... 17 20  3]\n [ 2 24  3 ...  0  0  0]\n ...\n [ 2 24 19 ... 27  9 15]\n [ 2  6 17 ...  0  0  0]\n [ 2 24 29 ...  3  0  0]]\ndecoder-input [[ 2 25 17 ...  0  0  0]\n [ 2 29 23 ...  0  0  0]\n [ 2  5  3 ...  0  0  0]\n ...\n [ 2 26  3 ...  0  0  0]\n [ 2 19 17 ...  0  0  0]\n [ 2  5  3 ...  0  0  0]]\ndecoder-input [[ 2 14  6 ...  9 15  3]\n [ 2 24 25 ...  3  0  0]\n [ 2 25  3 ...  0  0  0]\n ...\n [ 2 28  3 ...  0  0  0]\n [ 2 12  3 ...  0  0  0]\n [ 2 28 17 ...  0  0  0]]\ndecoder-input [[ 2  8  3 ...  0  0  0]\n [ 2 19 27 ...  0  0  0]\n [ 2 11 26 ... 13 21 21]\n ...\n [ 2 16  3 ...  0  0  0]\n [ 2  6 26 ...  3  0  0]\n [ 2 28 27 ...  0  0  0]]\ndecoder-input [[ 2 27  3 ...  0  0  0]\n [ 2 22 27 ...  3  0  0]\n [ 2 25 13 ...  3  0  0]\n ...\n [ 2 14  6 ...  3  0  0]\n [ 2 28 14 ... 21 23  3]\n [ 2 14 29 ... 18 12 12]]\ndecoder-input [[ 2  6 13 ...  0  0  0]\n [ 2  9 21 ...  0  0  0]\n [ 2 16 16 ...  3  0  0]\n ...\n [ 2  7  3 ...  0  0  0]\n [ 2 24  7 ... 20  3  0]\n [ 2  7  4 ...  0  0  0]]\ndecoder-input [[ 2 22  3 ...  0  0  0]\n [ 2 16 15 ...  0  0  0]\n [ 2 10 22 ...  0  0  0]\n ...\n [ 2 14 21 ...  0  0  0]\n [ 2 20  3 ...  0  0  0]\n [ 2 25 26 ...  3  0  0]]\ndecoder-input [[ 2 24 24 ...  5  3  0]\n [ 2 24  8 ... 15 23  3]\n [ 2 24 14 ...  0  0  0]\n ...\n [ 2 24 16 ...  8 21 15]\n [ 2 24 19 ... 12 15 23]\n [ 2 10 19 ...  6  4  3]]\ndecoder-input [[ 2 19 27 ...  0  0  0]\n [ 2 25 14 ...  3  0  0]\n [ 2 19 19 ... 14 11 17]\n ...\n [ 2 28 25 ...  0  0  0]\n [ 2 10 11 ... 18  5 20]\n [ 2 24 28 ... 15  3  0]]\ndecoder-input [[ 2  7 11 ...  0  0  0]\n [ 2 24 26 ... 13  4 12]\n [ 2  4  3 ...  0  0  0]\n ...\n [ 2 19 11 ...  0  0  0]\n [ 2  5 12 ...  0  0  0]\n [ 2 13 23 ...  0  0  0]]\n"
     ]
    },
    {
     "name": "stdout",
     "output_type": "stream",
     "text": [
      "decoder-input [[ 2 14 23 ...  0  0  0]\n [ 2 11  6 ... 12 15  3]\n [ 2 28 29 ... 20 20 23]\n ...\n [ 2 10  3 ...  0  0  0]\n [ 2 11  3 ...  0  0  0]\n [ 2 19 14 ... 13 21  3]]\ndecoder-input [[ 2 28 25 ...  3  0  0]\n [ 2 29  6 ...  9 21  3]\n [ 2 28 16 ... 18  5  3]\n ...\n [ 2  7  9 ...  0  0  0]\n [ 2 27 18 ...  0  0  0]\n [ 2 27 13 ...  3  0  0]]\ndecoder-input [[ 2 10  7 ...  3  0  0]\n [ 2  6 27 ... 15  3  0]\n [ 2 14 29 ... 22  4 15]\n ...\n [ 2 25 13 ...  0  0  0]\n [ 2  6 27 ... 12 15  3]\n [ 2  6  6 ... 23  3  0]]\ndecoder-input [[ 2 24 18 ... 21  3  0]\n [ 2 10 19 ... 16 26 18]\n [ 2 11 27 ...  0  0  0]\n ...\n [ 2 19 14 ...  6 27  3]\n [ 2 16 22 ... 15 23  3]\n [ 2 10 10 ...  4 15 23]]\ndecoder-input [[ 2 17  4 ...  8 15 23]\n [ 2  6  9 ...  3  0  0]\n [ 2 11 27 ...  0  0  0]\n ...\n [ 2 16 20 ...  0  0  0]\n [ 2 19 22 ...  0  0  0]\n [ 2 24 19 ... 20  3  0]]\ndecoder-input [[ 2 28 13 ...  0  0  0]\n [ 2 25 11 ...  0  0  0]\n [ 2 28 29 ...  5  3  0]\n ...\n [ 2 19 19 ...  8 21 15]\n [ 2 28 28 ...  8  3  0]\n [ 2 19  7 ...  3  0  0]]\ndecoder-input [[ 2 10 15 ...  0  0  0]\n [ 2 22  3 ...  0  0  0]\n [ 2 28 11 ... 13 20 21]\n ...\n [ 2 24 25 ... 12  3  0]\n [ 2 24 10 ...  3  0  0]\n [ 2 16 26 ... 20  3  0]]\ndecoder-input [[ 2 11  6 ...  0  0  0]\n [ 2 28  5 ...  3  0  0]\n [ 2 24 28 ... 26 20  3]\n ...\n [ 2 14 18 ...  5 21  3]\n [ 2 22 22 ...  3  0  0]\n [ 2 25 11 ...  0  0  0]]\ndecoder-input [[ 2  6  9 ...  0  0  0]\n [ 2 25 11 ... 13 13  3]\n [ 2 11  3 ...  0  0  0]\n ...\n [ 2 25  6 ... 13 21 21]\n [ 2 16 16 ... 18 20  3]\n [ 2 25 11 ... 12  3  0]]\ndecoder-input [[ 2 28 14 ... 17  9 12]\n [ 2 19 29 ...  5  3  0]\n [ 2 24 14 ...  3  0  0]\n ...\n [ 2 10 11 ... 13  3  0]\n [ 2  7 29 ...  3  0  0]\n [ 2 11 26 ... 18 23  3]]\ndecoder-input [[ 2 10 10 ... 17  3  0]\n [ 2 10 27 ...  5 23  3]\n [ 2  7 14 ... 13 12 21]\n ...\n [ 2 24 11 ... 13  4 23]\n [ 2  7  7 ...  3  0  0]\n [ 2 19 14 ...  0  0  0]]\n"
     ]
    },
    {
     "ename": "KeyboardInterrupt",
     "evalue": "",
     "traceback": [
      "\u001b[0;31m---------------------------------------------------------------------------\u001b[0m",
      "\u001b[0;31mKeyboardInterrupt\u001b[0m                         Traceback (most recent call last)",
      "\u001b[0;32m<ipython-input-35-299cf1fb1c3a>\u001b[0m in \u001b[0;36m<module>\u001b[0;34m()\u001b[0m\n\u001b[1;32m     59\u001b[0m                  \u001b[0mlr\u001b[0m\u001b[0;34m:\u001b[0m \u001b[0mlearning_rate\u001b[0m\u001b[0;34m,\u001b[0m\u001b[0;34m\u001b[0m\u001b[0m\n\u001b[1;32m     60\u001b[0m                  \u001b[0mtarget_sequence_length\u001b[0m\u001b[0;34m:\u001b[0m \u001b[0mtargets_lengths\u001b[0m\u001b[0;34m,\u001b[0m\u001b[0;34m\u001b[0m\u001b[0m\n\u001b[0;32m---> 61\u001b[0;31m                  source_sequence_length: sources_lengths})\n\u001b[0m\u001b[1;32m     62\u001b[0m \u001b[0;34m\u001b[0m\u001b[0m\n\u001b[1;32m     63\u001b[0m             \u001b[0;32mif\u001b[0m \u001b[0mbatch_i\u001b[0m \u001b[0;34m%\u001b[0m \u001b[0mdisplay_step\u001b[0m \u001b[0;34m==\u001b[0m \u001b[0;36m0\u001b[0m\u001b[0;34m:\u001b[0m\u001b[0;34m\u001b[0m\u001b[0m\n",
      "\u001b[0;32m/Library/Frameworks/Python.framework/Versions/3.6/lib/python3.6/site-packages/tensorflow/python/client/session.py\u001b[0m in \u001b[0;36mrun\u001b[0;34m(self, fetches, feed_dict, options, run_metadata)\u001b[0m\n\u001b[1;32m    927\u001b[0m     \u001b[0;32mtry\u001b[0m\u001b[0;34m:\u001b[0m\u001b[0;34m\u001b[0m\u001b[0m\n\u001b[1;32m    928\u001b[0m       result = self._run(None, fetches, feed_dict, options_ptr,\n\u001b[0;32m--> 929\u001b[0;31m                          run_metadata_ptr)\n\u001b[0m\u001b[1;32m    930\u001b[0m       \u001b[0;32mif\u001b[0m \u001b[0mrun_metadata\u001b[0m\u001b[0;34m:\u001b[0m\u001b[0;34m\u001b[0m\u001b[0m\n\u001b[1;32m    931\u001b[0m         \u001b[0mproto_data\u001b[0m \u001b[0;34m=\u001b[0m \u001b[0mtf_session\u001b[0m\u001b[0;34m.\u001b[0m\u001b[0mTF_GetBuffer\u001b[0m\u001b[0;34m(\u001b[0m\u001b[0mrun_metadata_ptr\u001b[0m\u001b[0;34m)\u001b[0m\u001b[0;34m\u001b[0m\u001b[0m\n",
      "\u001b[0;32m/Library/Frameworks/Python.framework/Versions/3.6/lib/python3.6/site-packages/tensorflow/python/client/session.py\u001b[0m in \u001b[0;36m_run\u001b[0;34m(self, handle, fetches, feed_dict, options, run_metadata)\u001b[0m\n\u001b[1;32m   1150\u001b[0m     \u001b[0;32mif\u001b[0m \u001b[0mfinal_fetches\u001b[0m \u001b[0;32mor\u001b[0m \u001b[0mfinal_targets\u001b[0m \u001b[0;32mor\u001b[0m \u001b[0;34m(\u001b[0m\u001b[0mhandle\u001b[0m \u001b[0;32mand\u001b[0m \u001b[0mfeed_dict_tensor\u001b[0m\u001b[0;34m)\u001b[0m\u001b[0;34m:\u001b[0m\u001b[0;34m\u001b[0m\u001b[0m\n\u001b[1;32m   1151\u001b[0m       results = self._do_run(handle, final_targets, final_fetches,\n\u001b[0;32m-> 1152\u001b[0;31m                              feed_dict_tensor, options, run_metadata)\n\u001b[0m\u001b[1;32m   1153\u001b[0m     \u001b[0;32melse\u001b[0m\u001b[0;34m:\u001b[0m\u001b[0;34m\u001b[0m\u001b[0m\n\u001b[1;32m   1154\u001b[0m       \u001b[0mresults\u001b[0m \u001b[0;34m=\u001b[0m \u001b[0;34m[\u001b[0m\u001b[0;34m]\u001b[0m\u001b[0;34m\u001b[0m\u001b[0m\n",
      "\u001b[0;32m/Library/Frameworks/Python.framework/Versions/3.6/lib/python3.6/site-packages/tensorflow/python/client/session.py\u001b[0m in \u001b[0;36m_do_run\u001b[0;34m(self, handle, target_list, fetch_list, feed_dict, options, run_metadata)\u001b[0m\n\u001b[1;32m   1326\u001b[0m     \u001b[0;32mif\u001b[0m \u001b[0mhandle\u001b[0m \u001b[0;32mis\u001b[0m \u001b[0;32mNone\u001b[0m\u001b[0;34m:\u001b[0m\u001b[0;34m\u001b[0m\u001b[0m\n\u001b[1;32m   1327\u001b[0m       return self._do_call(_run_fn, feeds, fetches, targets, options,\n\u001b[0;32m-> 1328\u001b[0;31m                            run_metadata)\n\u001b[0m\u001b[1;32m   1329\u001b[0m     \u001b[0;32melse\u001b[0m\u001b[0;34m:\u001b[0m\u001b[0;34m\u001b[0m\u001b[0m\n\u001b[1;32m   1330\u001b[0m       \u001b[0;32mreturn\u001b[0m \u001b[0mself\u001b[0m\u001b[0;34m.\u001b[0m\u001b[0m_do_call\u001b[0m\u001b[0;34m(\u001b[0m\u001b[0m_prun_fn\u001b[0m\u001b[0;34m,\u001b[0m \u001b[0mhandle\u001b[0m\u001b[0;34m,\u001b[0m \u001b[0mfeeds\u001b[0m\u001b[0;34m,\u001b[0m \u001b[0mfetches\u001b[0m\u001b[0;34m)\u001b[0m\u001b[0;34m\u001b[0m\u001b[0m\n",
      "\u001b[0;32m/Library/Frameworks/Python.framework/Versions/3.6/lib/python3.6/site-packages/tensorflow/python/client/session.py\u001b[0m in \u001b[0;36m_do_call\u001b[0;34m(self, fn, *args)\u001b[0m\n\u001b[1;32m   1332\u001b[0m   \u001b[0;32mdef\u001b[0m \u001b[0m_do_call\u001b[0m\u001b[0;34m(\u001b[0m\u001b[0mself\u001b[0m\u001b[0;34m,\u001b[0m \u001b[0mfn\u001b[0m\u001b[0;34m,\u001b[0m \u001b[0;34m*\u001b[0m\u001b[0margs\u001b[0m\u001b[0;34m)\u001b[0m\u001b[0;34m:\u001b[0m\u001b[0;34m\u001b[0m\u001b[0m\n\u001b[1;32m   1333\u001b[0m     \u001b[0;32mtry\u001b[0m\u001b[0;34m:\u001b[0m\u001b[0;34m\u001b[0m\u001b[0m\n\u001b[0;32m-> 1334\u001b[0;31m       \u001b[0;32mreturn\u001b[0m \u001b[0mfn\u001b[0m\u001b[0;34m(\u001b[0m\u001b[0;34m*\u001b[0m\u001b[0margs\u001b[0m\u001b[0;34m)\u001b[0m\u001b[0;34m\u001b[0m\u001b[0m\n\u001b[0m\u001b[1;32m   1335\u001b[0m     \u001b[0;32mexcept\u001b[0m \u001b[0merrors\u001b[0m\u001b[0;34m.\u001b[0m\u001b[0mOpError\u001b[0m \u001b[0;32mas\u001b[0m \u001b[0me\u001b[0m\u001b[0;34m:\u001b[0m\u001b[0;34m\u001b[0m\u001b[0m\n\u001b[1;32m   1336\u001b[0m       \u001b[0mmessage\u001b[0m \u001b[0;34m=\u001b[0m \u001b[0mcompat\u001b[0m\u001b[0;34m.\u001b[0m\u001b[0mas_text\u001b[0m\u001b[0;34m(\u001b[0m\u001b[0me\u001b[0m\u001b[0;34m.\u001b[0m\u001b[0mmessage\u001b[0m\u001b[0;34m)\u001b[0m\u001b[0;34m\u001b[0m\u001b[0m\n",
      "\u001b[0;32m/Library/Frameworks/Python.framework/Versions/3.6/lib/python3.6/site-packages/tensorflow/python/client/session.py\u001b[0m in \u001b[0;36m_run_fn\u001b[0;34m(feed_dict, fetch_list, target_list, options, run_metadata)\u001b[0m\n\u001b[1;32m   1317\u001b[0m       \u001b[0mself\u001b[0m\u001b[0;34m.\u001b[0m\u001b[0m_extend_graph\u001b[0m\u001b[0;34m(\u001b[0m\u001b[0;34m)\u001b[0m\u001b[0;34m\u001b[0m\u001b[0m\n\u001b[1;32m   1318\u001b[0m       return self._call_tf_sessionrun(\n\u001b[0;32m-> 1319\u001b[0;31m           options, feed_dict, fetch_list, target_list, run_metadata)\n\u001b[0m\u001b[1;32m   1320\u001b[0m \u001b[0;34m\u001b[0m\u001b[0m\n\u001b[1;32m   1321\u001b[0m     \u001b[0;32mdef\u001b[0m \u001b[0m_prun_fn\u001b[0m\u001b[0;34m(\u001b[0m\u001b[0mhandle\u001b[0m\u001b[0;34m,\u001b[0m \u001b[0mfeed_dict\u001b[0m\u001b[0;34m,\u001b[0m \u001b[0mfetch_list\u001b[0m\u001b[0;34m)\u001b[0m\u001b[0;34m:\u001b[0m\u001b[0;34m\u001b[0m\u001b[0m\n",
      "\u001b[0;32m/Library/Frameworks/Python.framework/Versions/3.6/lib/python3.6/site-packages/tensorflow/python/client/session.py\u001b[0m in \u001b[0;36m_call_tf_sessionrun\u001b[0;34m(self, options, feed_dict, fetch_list, target_list, run_metadata)\u001b[0m\n\u001b[1;32m   1405\u001b[0m     return tf_session.TF_SessionRun_wrapper(\n\u001b[1;32m   1406\u001b[0m         \u001b[0mself\u001b[0m\u001b[0;34m.\u001b[0m\u001b[0m_session\u001b[0m\u001b[0;34m,\u001b[0m \u001b[0moptions\u001b[0m\u001b[0;34m,\u001b[0m \u001b[0mfeed_dict\u001b[0m\u001b[0;34m,\u001b[0m \u001b[0mfetch_list\u001b[0m\u001b[0;34m,\u001b[0m \u001b[0mtarget_list\u001b[0m\u001b[0;34m,\u001b[0m\u001b[0;34m\u001b[0m\u001b[0m\n\u001b[0;32m-> 1407\u001b[0;31m         run_metadata)\n\u001b[0m\u001b[1;32m   1408\u001b[0m \u001b[0;34m\u001b[0m\u001b[0m\n\u001b[1;32m   1409\u001b[0m   \u001b[0;32mdef\u001b[0m \u001b[0m_call_tf_sessionprun\u001b[0m\u001b[0;34m(\u001b[0m\u001b[0mself\u001b[0m\u001b[0;34m,\u001b[0m \u001b[0mhandle\u001b[0m\u001b[0;34m,\u001b[0m \u001b[0mfeed_dict\u001b[0m\u001b[0;34m,\u001b[0m \u001b[0mfetch_list\u001b[0m\u001b[0;34m)\u001b[0m\u001b[0;34m:\u001b[0m\u001b[0;34m\u001b[0m\u001b[0m\n",
      "\u001b[0;31mKeyboardInterrupt\u001b[0m: "
     ],
     "output_type": "error"
    }
   ],
   "source": [
    "# 将数据集分割为train和validation\n",
    "train_source = source_int[batch_size:]\n",
    "train_target = target_int[batch_size:]\n",
    "# 留出一个batch进行验证\n",
    "valid_source = source_int[:batch_size]\n",
    "valid_target = target_int[:batch_size]\n",
    "(valid_targets_batch, valid_sources_batch, valid_targets_lengths, valid_sources_lengths) = next(get_batches(valid_target, valid_source, batch_size,\n",
    "                           source_letter_to_int['<PAD>'],\n",
    "                           target_letter_to_int['<PAD>']))\n",
    "\n",
    "display_step = 50 # 每隔50轮输出loss\n",
    "\n",
    "checkpoint = \"./trained_model.ckpt\" \n",
    "with tf.Session(graph=train_graph) as sess:\n",
    "    sess.run(tf.global_variables_initializer())\n",
    "        \n",
    "    for epoch_i in range(1, epochs+1):\n",
    "        for batch_i, (targets_batch, sources_batch, targets_lengths, sources_lengths) in enumerate(\n",
    "                get_batches(train_target, train_source, batch_size,\n",
    "                           source_letter_to_int['<PAD>'],\n",
    "                           target_letter_to_int['<PAD>'])):\n",
    "            \n",
    "            # print('targets_batch, sources_batch\\n',targets_batch,'\\n****\\n', sources_batch,'\\n****\\n')\n",
    "            '''\n",
    "            {0: '<PAD>',\n",
    "              1: '<UNK>',\n",
    "              2: '<GO>',\n",
    "              3: '<EOS>'\n",
    "            \n",
    "            targets_batch, \n",
    "             [[25 27  5 ...  0  0  0]\n",
    "             [16  6  3 ...  0  0  0]\n",
    "             [14 18 13 ... 12  3  0]\n",
    "             ...\n",
    "             [14 29 22 ... 12  3  0]\n",
    "             [19 14  4 ...  3  0  0]\n",
    "             [24 11 11 ...  8 20  3]] \n",
    "             \n",
    "             将targets_batch最后一个元素去掉，在最前面添加go的id即可获得decoder-input\n",
    "             decoder-input \n",
    "             [[ 2 25 27 ...  0  0  0]\n",
    "             [ 2 16  6 ...  0  0  0]\n",
    "             [ 2 14 18 ...  8 12  3]\n",
    "             ...\n",
    "             [ 2 14 29 ... 12 12  3]\n",
    "             [ 2 19 14 ... 12  3  0]\n",
    "             [ 2 24 11 ...  9  8 20]]\n",
    "            ****\n",
    "            sources_batch\n",
    "             [[ 5 25 27  0  0  0  0]\n",
    "             [ 6 16  0  0  0  0  0]\n",
    "             [13 12  8 18 14 13  0]\n",
    "             [12  8 26  0  0  0  0]\n",
    "             [29 20  0  0  0  0  0]\n",
    "             [27 20 27  0  0  0  0]\n",
    "            '''\n",
    "            \n",
    "            #eos，pad之后开始运行seq2seq_model进行decoder端的去掉eos添加go\n",
    "            #调试看是什么\n",
    "            print('decoder-input',sess.run(process_decoder_input_example,{input_data: sources_batch,\n",
    "                 targets: targets_batch,\n",
    "                 lr: learning_rate,\n",
    "                 target_sequence_length: targets_lengths,\n",
    "                 source_sequence_length: sources_lengths}))\n",
    "            _, loss = sess.run(\n",
    "                [train_op, cost],\n",
    "                {input_data: sources_batch,\n",
    "                 targets: targets_batch,\n",
    "                 lr: learning_rate,\n",
    "                 target_sequence_length: targets_lengths,\n",
    "                 source_sequence_length: sources_lengths})\n",
    "\n",
    "            if batch_i % display_step == 0:\n",
    "                \n",
    "                # 计算validation loss\n",
    "                validation_loss = sess.run(\n",
    "                [cost],\n",
    "                {input_data: valid_sources_batch,\n",
    "                 targets: valid_targets_batch,\n",
    "                 lr: learning_rate,\n",
    "                 target_sequence_length: valid_targets_lengths,\n",
    "                 source_sequence_length: valid_sources_lengths})\n",
    "                \n",
    "                print('Epoch {:>3}/{} Batch {:>4}/{} - Training Loss: {:>6.3f}  - Validation loss: {:>6.3f}'\n",
    "                      .format(epoch_i,\n",
    "                              epochs, \n",
    "                              batch_i, \n",
    "                              len(train_source) // batch_size, \n",
    "                              loss, \n",
    "                              validation_loss[0]))\n",
    "\n",
    "    \n",
    "    \n",
    "    # 保存模型\n",
    "    saver = tf.train.Saver()\n",
    "    saver.save(sess, checkpoint)\n",
    "    print('Model Trained and Saved')"
   ]
  },
  {
   "cell_type": "code",
   "execution_count": 38,
   "metadata": {},
   "outputs": [
    {
     "name": "stdout",
     "output_type": "stream",
     "text": [
      "/Users/ozintel/Downloads/seq2seq_eg\n"
     ]
    }
   ],
   "source": [
    "import os\n",
    "print(os.path.abspath('.'))"
   ]
  },
  {
   "cell_type": "code",
   "execution_count": 44,
   "metadata": {},
   "outputs": [],
   "source": [
    "def source_to_seq(text):\n",
    "    '''\n",
    "    对源数据进行转换\n",
    "    '''\n",
    "    sequence_length = 7\n",
    "    return [source_letter_to_int.get(word, source_letter_to_int['<UNK>']) for word in text] + [source_letter_to_int['<PAD>']]*(sequence_length-len(text))"
   ]
  },
  {
   "cell_type": "code",
   "execution_count": 49,
   "metadata": {},
   "outputs": [
    {
     "name": "stdout",
     "output_type": "stream",
     "text": [
      "INFO:tensorflow:Restoring parameters from ./trained_model.ckpt\n"
     ]
    },
    {
     "name": "stdout",
     "output_type": "stream",
     "text": [
      "原始输入: iogmhk\n\nSource\n  Word 编号:    [29, 12, 13, 24, 18, 14, 0]\n  Input Words: i o g m h k <PAD>\n\nTarget\n  Word 编号:       [13, 18, 29, 14, 24, 12]\n  Response Words: g h i k m o\n"
     ]
    }
   ],
   "source": [
    "# 输入一个单词\n",
    "input_word = 'iogmhk'\n",
    "text = source_to_seq(input_word)\n",
    "\n",
    "checkpoint = \"./trained_model.ckpt\"\n",
    "\n",
    "loaded_graph = tf.Graph()\n",
    "with tf.Session(graph=loaded_graph) as sess:\n",
    "    # 加载模型\n",
    "    loader = tf.train.import_meta_graph(checkpoint + '.meta')\n",
    "    loader.restore(sess, checkpoint)\n",
    "\n",
    "    input_data = loaded_graph.get_tensor_by_name('inputs:0')\n",
    "    logits = loaded_graph.get_tensor_by_name('predictions:0')\n",
    "    source_sequence_length = loaded_graph.get_tensor_by_name('source_sequence_length:0')\n",
    "    target_sequence_length = loaded_graph.get_tensor_by_name('target_sequence_length:0')\n",
    "    \n",
    "    answer_logits = sess.run(logits, {input_data: [text]*batch_size, \n",
    "                                      target_sequence_length: [len(input_word)]*batch_size, \n",
    "                                      source_sequence_length: [len(input_word)]*batch_size})[0] \n",
    "\n",
    "\n",
    "pad = source_letter_to_int[\"<PAD>\"] \n",
    "\n",
    "print('原始输入:', input_word)\n",
    "\n",
    "print('\\nSource')\n",
    "print('  Word 编号:    {}'.format([i for i in text]))\n",
    "print('  Input Words: {}'.format(\" \".join([source_int_to_letter[i] for i in text])))\n",
    "\n",
    "print('\\nTarget')\n",
    "print('  Word 编号:       {}'.format([i for i in answer_logits if i != pad]))\n",
    "print('  Response Words: {}'.format(\" \".join([target_int_to_letter[i] for i in answer_logits if i != pad])))"
   ]
  },
  {
   "cell_type": "code",
   "execution_count": null,
   "metadata": {},
   "outputs": [],
   "source": [
    ""
   ]
  },
  {
   "cell_type": "code",
   "execution_count": null,
   "metadata": {},
   "outputs": [],
   "source": [
    ""
   ]
  }
 ],
 "metadata": {
  "kernelspec": {
   "display_name": "Python 2",
   "language": "python",
   "name": "python2"
  },
  "language_info": {
   "codemirror_mode": {
    "name": "ipython",
    "version": 2.0
   },
   "file_extension": ".py",
   "mimetype": "text/x-python",
   "name": "python",
   "nbconvert_exporter": "python",
   "pygments_lexer": "ipython2",
   "version": "2.7.6"
  }
 },
 "nbformat": 4,
 "nbformat_minor": 0
}